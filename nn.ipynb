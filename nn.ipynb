{
  "nbformat": 4,
  "nbformat_minor": 0,
  "metadata": {
    "colab": {
      "name": "nn.ipynb",
      "provenance": [],
      "collapsed_sections": [],
      "include_colab_link": true
    },
    "kernelspec": {
      "display_name": "Python 3",
      "language": "python",
      "name": "python3"
    },
    "language_info": {
      "codemirror_mode": {
        "name": "ipython",
        "version": 3
      },
      "file_extension": ".py",
      "mimetype": "text/x-python",
      "name": "python",
      "nbconvert_exporter": "python",
      "pygments_lexer": "ipython3",
      "version": "3.7.1"
    }
  },
  "cells": [
    {
      "cell_type": "markdown",
      "metadata": {
        "id": "view-in-github",
        "colab_type": "text"
      },
      "source": [
        "<a href=\"https://colab.research.google.com/github/owen-brooks/xai-senior-design/blob/master/nn.ipynb\" target=\"_parent\"><img src=\"https://colab.research.google.com/assets/colab-badge.svg\" alt=\"Open In Colab\"/></a>"
      ]
    },
    {
      "cell_type": "code",
      "metadata": {
        "colab_type": "code",
        "id": "ZtiH0I3q6vj4",
        "colab": {}
      },
      "source": [
        "from tensorflow.keras.datasets import fashion_mnist\n",
        "from tensorflow.keras.models import Sequential\n",
        "from tensorflow.keras.layers import Dense\n",
        "from tensorflow.keras.utils import to_categorical"
      ],
      "execution_count": 0,
      "outputs": []
    },
    {
      "cell_type": "code",
      "metadata": {
        "colab_type": "code",
        "id": "AQ_42BY9OVo8",
        "outputId": "885afc5f-3aca-4f40-dd84-65248e8e41a0",
        "colab": {
          "base_uri": "https://localhost:8080/",
          "height": 34
        }
      },
      "source": [
        "(x_train, y_train), (x_test, y_test) = fashion_mnist.load_data()\n",
        "print(x_train.shape[1])\n",
        "x_train = x_train.reshape(x_train.shape[0], -1) / 255.0\n",
        "x_test = x_test.reshape(x_test.shape[0], -1) / 255.0\n",
        "y_train = to_categorical(y_train)\n",
        "y_test = to_categorical(y_test)"
      ],
      "execution_count": 0,
      "outputs": [
        {
          "output_type": "stream",
          "text": [
            "(60000, 28, 28)\n"
          ],
          "name": "stdout"
        }
      ]
    },
    {
      "cell_type": "code",
      "metadata": {
        "colab_type": "code",
        "id": "CGQSCTpFPHUx",
        "colab": {}
      },
      "source": [
        "def build_model(input_dim, n_hidden_layers, hidden_layer_nodes):\n",
        "  model = Sequential()\n",
        "  for i in range(n_hidden_layers):\n",
        "    if i == 0:\n",
        "      model.add(Dense(hidden_layer_nodes, input_dim=input_dim, activation='relu'))\n",
        "    else:\n",
        "      model.add(Dense(hidden_layer_nodes, activation='relu'))\n",
        "  model.add(Dense(10, activation='softmax'))\n",
        "  model.compile(loss='categorical_crossentropy', optimizer='adam', metrics=['accuracy'])\n",
        "  return model"
      ],
      "execution_count": 0,
      "outputs": []
    },
    {
      "cell_type": "code",
      "metadata": {
        "colab_type": "code",
        "id": "HvFOlbCaPh4U",
        "outputId": "8a535abe-2f99-4ecd-f215-6b1355689f6e",
        "colab": {
          "base_uri": "https://localhost:8080/",
          "height": 1000
        }
      },
      "source": [
        "model = build_model(784, 2, 50)\n",
        "model.fit(x_train, y_train, epochs=50, validation_split=0.1) # 10% of the training data as the validation data"
      ],
      "execution_count": 0,
      "outputs": [
        {
          "output_type": "stream",
          "text": [
            "Train on 54000 samples, validate on 6000 samples\n",
            "Epoch 1/50\n",
            "54000/54000 [==============================] - 6s 106us/sample - loss: 0.5402 - acc: 0.8092 - val_loss: 0.4640 - val_acc: 0.8373\n",
            "Epoch 2/50\n",
            "54000/54000 [==============================] - 5s 97us/sample - loss: 0.3967 - acc: 0.8575 - val_loss: 0.3903 - val_acc: 0.8585\n",
            "Epoch 3/50\n",
            "54000/54000 [==============================] - 4s 81us/sample - loss: 0.3595 - acc: 0.8697 - val_loss: 0.3615 - val_acc: 0.8683\n",
            "Epoch 4/50\n",
            "54000/54000 [==============================] - 4s 74us/sample - loss: 0.3349 - acc: 0.8771 - val_loss: 0.3642 - val_acc: 0.8730\n",
            "Epoch 5/50\n",
            "54000/54000 [==============================] - 4s 78us/sample - loss: 0.3193 - acc: 0.8838 - val_loss: 0.3441 - val_acc: 0.8755\n",
            "Epoch 6/50\n",
            "54000/54000 [==============================] - 4s 77us/sample - loss: 0.3033 - acc: 0.8879 - val_loss: 0.3668 - val_acc: 0.8692\n",
            "Epoch 7/50\n",
            "54000/54000 [==============================] - 5s 97us/sample - loss: 0.2941 - acc: 0.8904 - val_loss: 0.3595 - val_acc: 0.8718\n",
            "Epoch 8/50\n",
            "54000/54000 [==============================] - 4s 83us/sample - loss: 0.2816 - acc: 0.8943 - val_loss: 0.3332 - val_acc: 0.8812\n",
            "Epoch 9/50\n",
            "54000/54000 [==============================] - 4s 75us/sample - loss: 0.2729 - acc: 0.8978 - val_loss: 0.3641 - val_acc: 0.8708\n",
            "Epoch 10/50\n",
            "54000/54000 [==============================] - 5s 86us/sample - loss: 0.2650 - acc: 0.9003 - val_loss: 0.3563 - val_acc: 0.8787\n",
            "Epoch 11/50\n",
            "54000/54000 [==============================] - 5s 88us/sample - loss: 0.2579 - acc: 0.9050 - val_loss: 0.3587 - val_acc: 0.8772\n",
            "Epoch 12/50\n",
            "54000/54000 [==============================] - 5s 91us/sample - loss: 0.2521 - acc: 0.9061 - val_loss: 0.3447 - val_acc: 0.8782\n",
            "Epoch 13/50\n",
            "54000/54000 [==============================] - 5s 93us/sample - loss: 0.2445 - acc: 0.9100 - val_loss: 0.3463 - val_acc: 0.8832\n",
            "Epoch 14/50\n",
            "54000/54000 [==============================] - 5s 91us/sample - loss: 0.2389 - acc: 0.9108 - val_loss: 0.3490 - val_acc: 0.8815\n",
            "Epoch 15/50\n",
            "54000/54000 [==============================] - 5s 98us/sample - loss: 0.2364 - acc: 0.9110 - val_loss: 0.3435 - val_acc: 0.8798\n",
            "Epoch 16/50\n",
            "54000/54000 [==============================] - 6s 103us/sample - loss: 0.2271 - acc: 0.9137 - val_loss: 0.3591 - val_acc: 0.8807\n",
            "Epoch 17/50\n",
            "54000/54000 [==============================] - 5s 93us/sample - loss: 0.2228 - acc: 0.9168 - val_loss: 0.3514 - val_acc: 0.8808\n",
            "Epoch 18/50\n",
            "54000/54000 [==============================] - 5s 94us/sample - loss: 0.2196 - acc: 0.9173 - val_loss: 0.3720 - val_acc: 0.8837\n",
            "Epoch 19/50\n",
            "54000/54000 [==============================] - 6s 108us/sample - loss: 0.2143 - acc: 0.9189 - val_loss: 0.3478 - val_acc: 0.8837\n",
            "Epoch 20/50\n",
            "54000/54000 [==============================] - 5s 99us/sample - loss: 0.2102 - acc: 0.9209 - val_loss: 0.3567 - val_acc: 0.8795\n",
            "Epoch 21/50\n",
            "54000/54000 [==============================] - 6s 103us/sample - loss: 0.2071 - acc: 0.9213 - val_loss: 0.3639 - val_acc: 0.8827\n",
            "Epoch 22/50\n",
            "54000/54000 [==============================] - 5s 98us/sample - loss: 0.2019 - acc: 0.9243 - val_loss: 0.3608 - val_acc: 0.8880\n",
            "Epoch 23/50\n",
            "54000/54000 [==============================] - 5s 94us/sample - loss: 0.2004 - acc: 0.9236 - val_loss: 0.3671 - val_acc: 0.8810\n",
            "Epoch 24/50\n",
            "54000/54000 [==============================] - 5s 93us/sample - loss: 0.1963 - acc: 0.9263 - val_loss: 0.3705 - val_acc: 0.8852\n",
            "Epoch 25/50\n",
            "54000/54000 [==============================] - 5s 97us/sample - loss: 0.1930 - acc: 0.9263 - val_loss: 0.3939 - val_acc: 0.8742\n",
            "Epoch 26/50\n",
            "54000/54000 [==============================] - 5s 90us/sample - loss: 0.1896 - acc: 0.9284 - val_loss: 0.3889 - val_acc: 0.8803\n",
            "Epoch 27/50\n",
            "54000/54000 [==============================] - 6s 103us/sample - loss: 0.1852 - acc: 0.9301 - val_loss: 0.3740 - val_acc: 0.8837\n",
            "Epoch 28/50\n",
            "54000/54000 [==============================] - 5s 93us/sample - loss: 0.1842 - acc: 0.9310 - val_loss: 0.3981 - val_acc: 0.8853\n",
            "Epoch 29/50\n",
            "54000/54000 [==============================] - 5s 99us/sample - loss: 0.1804 - acc: 0.9320 - val_loss: 0.3749 - val_acc: 0.8843\n",
            "Epoch 30/50\n",
            "54000/54000 [==============================] - 5s 88us/sample - loss: 0.1800 - acc: 0.9316 - val_loss: 0.3996 - val_acc: 0.8797\n",
            "Epoch 31/50\n",
            "54000/54000 [==============================] - 6s 104us/sample - loss: 0.1747 - acc: 0.9339 - val_loss: 0.4216 - val_acc: 0.8822\n",
            "Epoch 32/50\n",
            "54000/54000 [==============================] - 5s 94us/sample - loss: 0.1729 - acc: 0.9342 - val_loss: 0.4400 - val_acc: 0.8767\n",
            "Epoch 33/50\n",
            "54000/54000 [==============================] - 5s 101us/sample - loss: 0.1721 - acc: 0.9337 - val_loss: 0.4072 - val_acc: 0.8812\n",
            "Epoch 34/50\n",
            "54000/54000 [==============================] - 5s 87us/sample - loss: 0.1685 - acc: 0.9363 - val_loss: 0.4138 - val_acc: 0.8835\n",
            "Epoch 35/50\n",
            "54000/54000 [==============================] - 5s 84us/sample - loss: 0.1647 - acc: 0.9374 - val_loss: 0.4395 - val_acc: 0.8792\n",
            "Epoch 36/50\n",
            "54000/54000 [==============================] - 6s 103us/sample - loss: 0.1652 - acc: 0.9382 - val_loss: 0.4144 - val_acc: 0.8853\n",
            "Epoch 37/50\n",
            "54000/54000 [==============================] - 5s 98us/sample - loss: 0.1636 - acc: 0.9384 - val_loss: 0.4268 - val_acc: 0.8812\n",
            "Epoch 38/50\n",
            "54000/54000 [==============================] - 5s 97us/sample - loss: 0.1610 - acc: 0.9396 - val_loss: 0.4527 - val_acc: 0.8800\n",
            "Epoch 39/50\n",
            "54000/54000 [==============================] - 6s 103us/sample - loss: 0.1571 - acc: 0.9408 - val_loss: 0.4271 - val_acc: 0.8868\n",
            "Epoch 40/50\n",
            "54000/54000 [==============================] - 5s 93us/sample - loss: 0.1550 - acc: 0.9420 - val_loss: 0.4490 - val_acc: 0.8820\n",
            "Epoch 41/50\n",
            "54000/54000 [==============================] - 5s 94us/sample - loss: 0.1543 - acc: 0.9411 - val_loss: 0.4333 - val_acc: 0.8823\n",
            "Epoch 42/50\n",
            "54000/54000 [==============================] - 6s 104us/sample - loss: 0.1521 - acc: 0.9428 - val_loss: 0.4408 - val_acc: 0.8823\n",
            "Epoch 43/50\n",
            "54000/54000 [==============================] - 5s 100us/sample - loss: 0.1511 - acc: 0.9424 - val_loss: 0.4774 - val_acc: 0.8838\n",
            "Epoch 44/50\n",
            "54000/54000 [==============================] - 5s 90us/sample - loss: 0.1467 - acc: 0.9443 - val_loss: 0.4591 - val_acc: 0.8772\n",
            "Epoch 45/50\n",
            "54000/54000 [==============================] - 6s 106us/sample - loss: 0.1479 - acc: 0.9447 - val_loss: 0.4900 - val_acc: 0.8822\n",
            "Epoch 46/50\n",
            "54000/54000 [==============================] - 6s 103us/sample - loss: 0.1435 - acc: 0.9451 - val_loss: 0.4696 - val_acc: 0.8810\n",
            "Epoch 47/50\n",
            "54000/54000 [==============================] - 6s 102us/sample - loss: 0.1425 - acc: 0.9464 - val_loss: 0.4848 - val_acc: 0.8800\n",
            "Epoch 48/50\n",
            "54000/54000 [==============================] - 5s 96us/sample - loss: 0.1429 - acc: 0.9461 - val_loss: 0.4723 - val_acc: 0.8830\n",
            "Epoch 49/50\n",
            "54000/54000 [==============================] - 6s 105us/sample - loss: 0.1412 - acc: 0.9465 - val_loss: 0.4914 - val_acc: 0.8823\n",
            "Epoch 50/50\n",
            "54000/54000 [==============================] - 6s 105us/sample - loss: 0.1395 - acc: 0.9476 - val_loss: 0.4752 - val_acc: 0.8800\n"
          ],
          "name": "stdout"
        },
        {
          "output_type": "execute_result",
          "data": {
            "text/plain": [
              "<tensorflow.python.keras.callbacks.History at 0x7f3afb6524e0>"
            ]
          },
          "metadata": {
            "tags": []
          },
          "execution_count": 29
        }
      ]
    },
    {
      "cell_type": "code",
      "metadata": {
        "colab_type": "code",
        "id": "VwOoQ1dFQXpt",
        "outputId": "ae88620b-d9f0-49ea-c3e1-b67e98e930e4",
        "colab": {
          "base_uri": "https://localhost:8080/",
          "height": 181
        }
      },
      "source": [
        "_, test_acc = model.evaluate(x_test, y_test, verbose=1)\n",
        "print(test_acc)"
      ],
      "execution_count": 0,
      "outputs": [
        {
          "output_type": "error",
          "ename": "NameError",
          "evalue": "ignored",
          "traceback": [
            "\u001b[0;31m---------------------------------------------------------------------------\u001b[0m",
            "\u001b[0;31mNameError\u001b[0m                                 Traceback (most recent call last)",
            "\u001b[0;32m<ipython-input-1-59db2840f947>\u001b[0m in \u001b[0;36m<module>\u001b[0;34m()\u001b[0m\n\u001b[0;32m----> 1\u001b[0;31m \u001b[0m_\u001b[0m\u001b[0;34m,\u001b[0m \u001b[0mtest_acc\u001b[0m \u001b[0;34m=\u001b[0m \u001b[0mmodel\u001b[0m\u001b[0;34m.\u001b[0m\u001b[0mevaluate\u001b[0m\u001b[0;34m(\u001b[0m\u001b[0mx_test\u001b[0m\u001b[0;34m,\u001b[0m \u001b[0my_test\u001b[0m\u001b[0;34m,\u001b[0m \u001b[0mverbose\u001b[0m\u001b[0;34m=\u001b[0m\u001b[0;36m1\u001b[0m\u001b[0;34m)\u001b[0m\u001b[0;34m\u001b[0m\u001b[0;34m\u001b[0m\u001b[0m\n\u001b[0m\u001b[1;32m      2\u001b[0m \u001b[0mprint\u001b[0m\u001b[0;34m(\u001b[0m\u001b[0mtest_acc\u001b[0m\u001b[0;34m)\u001b[0m\u001b[0;34m\u001b[0m\u001b[0;34m\u001b[0m\u001b[0m\n",
            "\u001b[0;31mNameError\u001b[0m: name 'model' is not defined"
          ]
        }
      ]
    }
  ]
}