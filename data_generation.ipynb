{
  "nbformat": 4,
  "nbformat_minor": 0,
  "metadata": {
    "colab": {
      "name": "data_generation.ipynb",
      "provenance": [],
      "collapsed_sections": [],
      "include_colab_link": true
    },
    "kernelspec": {
      "name": "python3",
      "display_name": "Python 3"
    }
  },
  "cells": [
    {
      "cell_type": "markdown",
      "metadata": {
        "id": "view-in-github",
        "colab_type": "text"
      },
      "source": [
        "<a href=\"https://colab.research.google.com/github/owen-brooks/xai-senior-design/blob/master/data_generation.ipynb\" target=\"_parent\"><img src=\"https://colab.research.google.com/assets/colab-badge.svg\" alt=\"Open In Colab\"/></a>"
      ]
    },
    {
      "cell_type": "code",
      "metadata": {
        "id": "7pVkIRPdIaIU",
        "colab_type": "code",
        "colab": {}
      },
      "source": [
        "from scipy.stats import truncnorm\n",
        "import matplotlib.pyplot as plt\n",
        "import random\n",
        "import pandas as pd"
      ],
      "execution_count": 0,
      "outputs": []
    },
    {
      "cell_type": "code",
      "metadata": {
        "id": "FjbKxABvJpWB",
        "colab_type": "code",
        "colab": {}
      },
      "source": [
        "def gen_rand_vals(mu, sigma, lower, upper, N):\n",
        "  \"\"\"Uses truncated normal dist to find rand vals\"\"\"\n",
        "  a, b = (lower - mu) / sigma, (upper - mu) / sigma\n",
        "  return truncnorm.rvs(a, b, mu, sigma, size=N)\n",
        "  "
      ],
      "execution_count": 0,
      "outputs": []
    },
    {
      "cell_type": "code",
      "metadata": {
        "id": "orxdnkiSRfib",
        "colab_type": "code",
        "colab": {}
      },
      "source": [
        "def calc_trip_consumption(tf, td, to, ei, vers=0):\n",
        "  \"\"\"Calculate personal energy consumption for a trip\n",
        "\n",
        "  Uses different variations of the formula\n",
        "  :param tf: Trip Frequency\n",
        "  :param td: Trip Distance\n",
        "  :param to: Transportation Occupancy\n",
        "  :param ei: Energy Intensity\n",
        "  :param vers: version of forumla, defaults to actual formula\n",
        "  \"\"\"\n",
        "  if vers == 0:\n",
        "    return (tf*(td/to))*ei # default\n",
        "  elif vers == 1:\n",
        "    return ((tf**2)*(td/to))*ei\n",
        "  elif vers == 2:\n",
        "    return (tf*(td/(to**.5)))*(ei**.5)\n",
        "  elif vers == 3:\n",
        "    return (tf*(td/to))*ei\n",
        "  elif vers == 4:\n",
        "    return (tf*(td/to))*ei\n",
        "  elif vers == 6:\n",
        "    return (tf*(td/to))*ei\n",
        "  elif vers == 7:\n",
        "    return (tf*(td/to))*ei\n",
        "  elif vers == 8:\n",
        "    return (tf*(td/to))*ei\n",
        "  elif vers == 9:\n",
        "    return (tf*(td/to))*ei\n",
        "  \n",
        "  \n",
        "  "
      ],
      "execution_count": 0,
      "outputs": []
    },
    {
      "cell_type": "code",
      "metadata": {
        "id": "Ihd3aR3NYt-J",
        "colab_type": "code",
        "outputId": "b567fc19-550a-452d-f135-9784c7f976b6",
        "colab": {
          "base_uri": "https://localhost:8080/",
          "height": 34
        }
      },
      "source": [
        "def get_td():\n",
        "  return gen_rand_vals(7.772449, 10.648316, 0.004418, 130.474121, 1)[0]\n",
        "def get_tf():\n",
        "  # num trips needs to be an int\n",
        "  return round(gen_rand_vals(2.787475, 2.082404, 1, 20, 1)[0])\n",
        "def get_car_to():\n",
        "  # num of occupants needs to be an int\n",
        "  return round(gen_rand_vals(2.196296, 12.488912, 1, 23, 1)[0])\n",
        "\n",
        "## MODE (From Shideh's Notebook)\n",
        "# 8(taxi)== 10(shutte),13(private transit), 9 (rental car), 19(paratansit)\n",
        "#22 (rail) == 28(other rail), 23 (trolly..), 24(NI commuter rail), 25(ni rail)\n",
        "# 21(subway) == 27(train), 26 (pastco)\n",
        "#14(bus) == 17(amtrak bus), 15== transit bus , 20(otherbus)\n",
        "# 2 (bikE) == 3(weelchair), 3(other non mot), 7(mope, motor)\n",
        "modes_key = {\n",
        "    5: \"Private Vehicle\", 8: \"Taxi/Shuttle/Private Transit\",\n",
        "    21: \"subway/train/pastco\", 14: \"bus/amtrak bus/transit bus\", \n",
        "    26: \"school bus\", 22: \"rail/trolly/pastco\"\n",
        "    }\n",
        "modes_ei = {\n",
        "    5: 1.354954955, 8: 1.21,\n",
        "    21: 0.5899, 14: 0.7872,\n",
        "    26: 4.814285714, 22: 0.933\n",
        "    }\n",
        "modes_to = {\n",
        "    5: get_car_to(), 8: 3,\n",
        "    21: 75, 14: 55,\n",
        "    26: 26, 22: 120\n",
        "    }\n",
        "modes = list(modes_key.keys())\n",
        "print(modes)"
      ],
      "execution_count": 0,
      "outputs": [
        {
          "output_type": "stream",
          "text": [
            "[5, 8, 21, 14, 26, 22]\n"
          ],
          "name": "stdout"
        }
      ]
    },
    {
      "cell_type": "code",
      "metadata": {
        "id": "v73rcqgiZKS4",
        "colab_type": "code",
        "outputId": "12ed78b7-6aa2-48a5-f43f-3762a145de4b",
        "colab": {
          "base_uri": "https://localhost:8080/",
          "height": 204
        }
      },
      "source": [
        "N = 100\n",
        "features = [\"mode\", \"ei\", \"to\", \"td\", \"tf\", \"consumption\"]\n",
        "rows = []\n",
        "for i in range(N):\n",
        "  mode = random.choice(modes) # transporation choice is random\n",
        "  tf, td = get_tf(), get_td()\n",
        "  rows.append([mode, modes_ei[mode], modes_to[mode], td, tf, calc_trip_consumption(tf,td,modes_to[mode],modes_ei[mode])])\n",
        "df = pd.DataFrame(rows, columns=features)\n",
        "df.head()"
      ],
      "execution_count": 0,
      "outputs": [
        {
          "output_type": "execute_result",
          "data": {
            "text/html": [
              "<div>\n",
              "<style scoped>\n",
              "    .dataframe tbody tr th:only-of-type {\n",
              "        vertical-align: middle;\n",
              "    }\n",
              "\n",
              "    .dataframe tbody tr th {\n",
              "        vertical-align: top;\n",
              "    }\n",
              "\n",
              "    .dataframe thead th {\n",
              "        text-align: right;\n",
              "    }\n",
              "</style>\n",
              "<table border=\"1\" class=\"dataframe\">\n",
              "  <thead>\n",
              "    <tr style=\"text-align: right;\">\n",
              "      <th></th>\n",
              "      <th>mode</th>\n",
              "      <th>ei</th>\n",
              "      <th>to</th>\n",
              "      <th>td</th>\n",
              "      <th>tf</th>\n",
              "      <th>consumption</th>\n",
              "    </tr>\n",
              "  </thead>\n",
              "  <tbody>\n",
              "    <tr>\n",
              "      <th>0</th>\n",
              "      <td>5</td>\n",
              "      <td>1.354955</td>\n",
              "      <td>12.0</td>\n",
              "      <td>2.735897</td>\n",
              "      <td>2.0</td>\n",
              "      <td>0.617836</td>\n",
              "    </tr>\n",
              "    <tr>\n",
              "      <th>1</th>\n",
              "      <td>8</td>\n",
              "      <td>1.210000</td>\n",
              "      <td>3.0</td>\n",
              "      <td>6.529261</td>\n",
              "      <td>3.0</td>\n",
              "      <td>7.900406</td>\n",
              "    </tr>\n",
              "    <tr>\n",
              "      <th>2</th>\n",
              "      <td>5</td>\n",
              "      <td>1.354955</td>\n",
              "      <td>12.0</td>\n",
              "      <td>7.299119</td>\n",
              "      <td>3.0</td>\n",
              "      <td>2.472494</td>\n",
              "    </tr>\n",
              "    <tr>\n",
              "      <th>3</th>\n",
              "      <td>21</td>\n",
              "      <td>0.589900</td>\n",
              "      <td>75.0</td>\n",
              "      <td>17.627273</td>\n",
              "      <td>2.0</td>\n",
              "      <td>0.277289</td>\n",
              "    </tr>\n",
              "    <tr>\n",
              "      <th>4</th>\n",
              "      <td>8</td>\n",
              "      <td>1.210000</td>\n",
              "      <td>3.0</td>\n",
              "      <td>5.964745</td>\n",
              "      <td>4.0</td>\n",
              "      <td>9.623121</td>\n",
              "    </tr>\n",
              "  </tbody>\n",
              "</table>\n",
              "</div>"
            ],
            "text/plain": [
              "   mode        ei    to         td   tf  consumption\n",
              "0     5  1.354955  12.0   2.735897  2.0     0.617836\n",
              "1     8  1.210000   3.0   6.529261  3.0     7.900406\n",
              "2     5  1.354955  12.0   7.299119  3.0     2.472494\n",
              "3    21  0.589900  75.0  17.627273  2.0     0.277289\n",
              "4     8  1.210000   3.0   5.964745  4.0     9.623121"
            ]
          },
          "metadata": {
            "tags": []
          },
          "execution_count": 6
        }
      ]
    }
  ]
}