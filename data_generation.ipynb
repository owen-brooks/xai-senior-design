{
  "nbformat": 4,
  "nbformat_minor": 0,
  "metadata": {
    "colab": {
      "name": "data_generation.ipynb",
      "provenance": [],
      "collapsed_sections": [],
      "include_colab_link": true
    },
    "kernelspec": {
      "name": "python3",
      "display_name": "Python 3"
    }
  },
  "cells": [
    {
      "cell_type": "markdown",
      "metadata": {
        "id": "view-in-github",
        "colab_type": "text"
      },
      "source": [
        "<a href=\"https://colab.research.google.com/github/owen-brooks/xai-senior-design/blob/master/data_generation.ipynb\" target=\"_parent\"><img src=\"https://colab.research.google.com/assets/colab-badge.svg\" alt=\"Open In Colab\"/></a>"
      ]
    },
    {
      "cell_type": "code",
      "metadata": {
        "id": "7pVkIRPdIaIU",
        "colab_type": "code",
        "colab": {}
      },
      "source": [
        "from scipy.stats import truncnorm\n",
        "import matplotlib.pyplot as plt\n",
        "import random\n",
        "import pandas as pd"
      ],
      "execution_count": 0,
      "outputs": []
    },
    {
      "cell_type": "code",
      "metadata": {
        "id": "FjbKxABvJpWB",
        "colab_type": "code",
        "colab": {}
      },
      "source": [
        "def gen_rand_vals(mu, sigma, lower, upper, N):\n",
        "  \"\"\"Uses truncated normal dist to find rand vals\"\"\"\n",
        "  a, b = (lower - mu) / sigma, (upper - mu) / sigma\n",
        "  return truncnorm.rvs(a, b, mu, sigma, size=N)\n",
        "  "
      ],
      "execution_count": 0,
      "outputs": []
    },
    {
      "cell_type": "code",
      "metadata": {
        "id": "orxdnkiSRfib",
        "colab_type": "code",
        "colab": {
          "base_uri": "https://localhost:8080/",
          "height": 130
        },
        "outputId": "e3502aaa-1112-494a-f9c6-a0df6ddc181b"
      },
      "source": [
        "def calc_trip_consumption(tf, td, to, ei, vers=0):\n",
        "  \"\"\"Calculate personal energy consumption for a trip\n",
        "\n",
        "  Uses different variations of the formula\n",
        "  :param tf: Trip Frequency\n",
        "  :param td: Trip Distance\n",
        "  :param to: Transportation Occupancy\n",
        "  :param ei: Energy Intensity\n",
        "  :param vers: version of forumla, defaults to actual formula\n",
        "  \"\"\"\n",
        "  if vers == 0:\n",
        "    return (tf*(td/to))*ei # default\n",
        "  elif vers == 1:\n",
        "    return ((tf**2)*(td/3*to))*ei\n",
        "  elif vers == 2:\n",
        "    return (tf*(td/to))*(ei**.5)\n",
        "  elif vers == 3:\n",
        "    return ((tf**.5)(td/to))*ei\n",
        "  elif vers == 4:\n",
        "    return (tf*(td/(to))*(ei**2)\n",
        "  elif vers == 5:\n",
        "    return (5*tf*(2*td/(to))*(ei)\n",
        "  elif vers == 6:\n",
        "    return (tf*(td/to**2))*ei\n",
        "  elif vers == 7:\n",
        "    return ((tf**.5)*(td/to))*(ei**2)\n",
        "  elif vers == 8:\n",
        "    return ((tf**2)*(td/to))*(ei**.5)\n",
        "  elif vers == 9:\n",
        "    return (tf*(td/(to**.5))*ei"
      ],
      "execution_count": 20,
      "outputs": [
        {
          "output_type": "error",
          "ename": "SyntaxError",
          "evalue": "ignored",
          "traceback": [
            "\u001b[0;36m  File \u001b[0;32m\"<ipython-input-20-a36928c1b020>\"\u001b[0;36m, line \u001b[0;32m21\u001b[0m\n\u001b[0;31m    elif vers == 5:\u001b[0m\n\u001b[0m       ^\u001b[0m\n\u001b[0;31mSyntaxError\u001b[0m\u001b[0;31m:\u001b[0m invalid syntax\n"
          ]
        }
      ]
    },
    {
      "cell_type": "code",
      "metadata": {
        "id": "Ihd3aR3NYt-J",
        "colab_type": "code",
        "outputId": "b567fc19-550a-452d-f135-9784c7f976b6",
        "colab": {
          "base_uri": "https://localhost:8080/",
          "height": 34
        }
      },
      "source": [
        "def get_td():\n",
        "  return gen_rand_vals(7.772449, 10.648316, 0.004418, 130.474121, 1)[0]\n",
        "def get_tf():\n",
        "  # num trips needs to be an int\n",
        "  return round(gen_rand_vals(2.787475, 2.082404, 1, 20, 1)[0])\n",
        "def get_car_to():\n",
        "  # num of occupants needs to be an int\n",
        "  return round(gen_rand_vals(2.196296, 12.488912, 1, 23, 1)[0])\n",
        "\n",
        "## MODE (From Shideh's Notebook)\n",
        "# 8(taxi)== 10(shutte),13(private transit), 9 (rental car), 19(paratansit)\n",
        "#22 (rail) == 28(other rail), 23 (trolly..), 24(NI commuter rail), 25(ni rail)\n",
        "# 21(subway) == 27(train), 26 (pastco)\n",
        "#14(bus) == 17(amtrak bus), 15== transit bus , 20(otherbus)\n",
        "# 2 (bikE) == 3(weelchair), 3(other non mot), 7(mope, motor)\n",
        "modes_key = {\n",
        "    5: \"Private Vehicle\", 8: \"Taxi/Shuttle/Private Transit\",\n",
        "    21: \"subway/train/pastco\", 14: \"bus/amtrak bus/transit bus\", \n",
        "    26: \"school bus\", 22: \"rail/trolly/pastco\"\n",
        "    }\n",
        "modes_ei = {\n",
        "    5: 1.354954955, 8: 1.21,\n",
        "    21: 0.5899, 14: 0.7872,\n",
        "    26: 4.814285714, 22: 0.933\n",
        "    }\n",
        "modes_to = {\n",
        "    5: get_car_to(), 8: 3,\n",
        "    21: 75, 14: 55,\n",
        "    26: 26, 22: 120\n",
        "    }\n",
        "modes = list(modes_key.keys())\n",
        "print(modes)"
      ],
      "execution_count": 0,
      "outputs": [
        {
          "output_type": "stream",
          "text": [
            "[5, 8, 21, 14, 26, 22]\n"
          ],
          "name": "stdout"
        }
      ]
    },
    {
      "cell_type": "code",
      "metadata": {
        "id": "v73rcqgiZKS4",
        "colab_type": "code",
        "outputId": "7d8db485-36d5-4a01-9c41-1477a601d34c",
        "colab": {
          "base_uri": "https://localhost:8080/",
          "height": 204
        }
      },
      "source": [
        "N = 1000\n",
        "features = [\"mode\", \"ei\", \"to\", \"td\", \"tf\", \"vers\", \"consumption\"]\n",
        "rows = []\n",
        "for i in range(N):\n",
        "  mode = random.choice(modes) # transporation choice is random\n",
        "  tf, td = get_tf(), get_td()\n",
        "  version = random.randint(0,9)\n",
        "  rows.append([mode, modes_ei[mode], modes_to[mode], td, tf, version, calc_trip_consumption(tf,td,modes_to[mode], modes_ei[mode], vers=version)])\n",
        "df = pd.DataFrame(rows, columns=features)\n",
        "df.head()"
      ],
      "execution_count": 21,
      "outputs": [
        {
          "output_type": "execute_result",
          "data": {
            "text/html": [
              "<div>\n",
              "<style scoped>\n",
              "    .dataframe tbody tr th:only-of-type {\n",
              "        vertical-align: middle;\n",
              "    }\n",
              "\n",
              "    .dataframe tbody tr th {\n",
              "        vertical-align: top;\n",
              "    }\n",
              "\n",
              "    .dataframe thead th {\n",
              "        text-align: right;\n",
              "    }\n",
              "</style>\n",
              "<table border=\"1\" class=\"dataframe\">\n",
              "  <thead>\n",
              "    <tr style=\"text-align: right;\">\n",
              "      <th></th>\n",
              "      <th>mode</th>\n",
              "      <th>ei</th>\n",
              "      <th>to</th>\n",
              "      <th>td</th>\n",
              "      <th>tf</th>\n",
              "      <th>vers</th>\n",
              "      <th>consumption</th>\n",
              "    </tr>\n",
              "  </thead>\n",
              "  <tbody>\n",
              "    <tr>\n",
              "      <th>0</th>\n",
              "      <td>22</td>\n",
              "      <td>0.933000</td>\n",
              "      <td>120.0</td>\n",
              "      <td>30.770632</td>\n",
              "      <td>2.0</td>\n",
              "      <td>6</td>\n",
              "      <td>0.478483</td>\n",
              "    </tr>\n",
              "    <tr>\n",
              "      <th>1</th>\n",
              "      <td>26</td>\n",
              "      <td>4.814286</td>\n",
              "      <td>26.0</td>\n",
              "      <td>11.726214</td>\n",
              "      <td>4.0</td>\n",
              "      <td>2</td>\n",
              "      <td>20.183528</td>\n",
              "    </tr>\n",
              "    <tr>\n",
              "      <th>2</th>\n",
              "      <td>26</td>\n",
              "      <td>4.814286</td>\n",
              "      <td>26.0</td>\n",
              "      <td>4.429153</td>\n",
              "      <td>3.0</td>\n",
              "      <td>3</td>\n",
              "      <td>2.460370</td>\n",
              "    </tr>\n",
              "    <tr>\n",
              "      <th>3</th>\n",
              "      <td>21</td>\n",
              "      <td>0.589900</td>\n",
              "      <td>75.0</td>\n",
              "      <td>8.506423</td>\n",
              "      <td>2.0</td>\n",
              "      <td>3</td>\n",
              "      <td>0.133812</td>\n",
              "    </tr>\n",
              "    <tr>\n",
              "      <th>4</th>\n",
              "      <td>21</td>\n",
              "      <td>0.589900</td>\n",
              "      <td>75.0</td>\n",
              "      <td>1.261702</td>\n",
              "      <td>2.0</td>\n",
              "      <td>3</td>\n",
              "      <td>0.019847</td>\n",
              "    </tr>\n",
              "  </tbody>\n",
              "</table>\n",
              "</div>"
            ],
            "text/plain": [
              "   mode        ei     to         td   tf  vers  consumption\n",
              "0    22  0.933000  120.0  30.770632  2.0     6     0.478483\n",
              "1    26  4.814286   26.0  11.726214  4.0     2    20.183528\n",
              "2    26  4.814286   26.0   4.429153  3.0     3     2.460370\n",
              "3    21  0.589900   75.0   8.506423  2.0     3     0.133812\n",
              "4    21  0.589900   75.0   1.261702  2.0     3     0.019847"
            ]
          },
          "metadata": {
            "tags": []
          },
          "execution_count": 21
        }
      ]
    }
  ]
}