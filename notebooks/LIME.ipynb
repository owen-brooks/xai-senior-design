{
 "cells": [
  {
   "cell_type": "code",
   "execution_count": null,
   "metadata": {
    "collapsed": true
   },
   "outputs": [],
   "source": [
    "import lime\n",
    "import lime.lime_tabular\n",
    "explainerx1 = lime.lime_tabular.LimeTabularExplainer(training_data=x_train1, mode='classification')\n",
    "explanationx1 = explainerx1.explain_instance(x_test1[0], model1.predict_proba, num_features=5)\n",
    "explainerx2 = lime.lime_tabular.LimeTabularExplainer(training_data=x_train2, mode='classification')\n",
    "explanationx2 = explainerx2.explain_instance(x_test2[0], model2.predict_proba, num_features=5)\n",
    "\n",
    "explainery1 = lime.lime_tabular.LimeTabularExplainer(training_data=x_train1, mode='classification')\n",
    "explanationy1 = explainery1.explain_instance(y_test1[0], model1.predict_proba, num_features=5)\n",
    "explainery2 = lime.lime_tabular.LimeTabularExplainer(training_data=x_train2, mode='classification')\n",
    "explanationy2 = explainery2.explain_instance(y_test2[0], model2.predict_proba, num_features=5)\n",
    "# print(explanation.as_list())\n",
    "explanationx1.as_pyplot_figure()\n",
    "explanationx2.as_pyplot_figure()\n",
    "\n",
    "explanationy1.as_pyplot_figure()\n",
    "explanationy2.as_pyplot_figure()\n",
    "\n",
    "from matplotlib import pyplot as plt\n",
    "# plt.savefig()\n",
    "#this is to save the figures\n",
    "\n"
   ]
  }
 ],
 "metadata": {
  "kernelspec": {
   "display_name": "Python 3",
   "language": "python",
   "name": "python3"
  },
  "language_info": {
   "codemirror_mode": {
    "name": "ipython",
    "version": 2
   },
   "file_extension": ".py",
   "mimetype": "text/x-python",
   "name": "python",
   "nbconvert_exporter": "python",
   "pygments_lexer": "ipython2",
   "version": "2.7.6"
  },
  "pycharm": {
   "stem_cell": {
    "cell_type": "raw",
    "source": [],
    "metadata": {
     "collapsed": false
    }
   }
  }
 },
 "nbformat": 4,
 "nbformat_minor": 0
}