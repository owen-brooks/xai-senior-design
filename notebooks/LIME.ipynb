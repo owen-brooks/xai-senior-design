{
 "cells": [
  {
   "cell_type": "code",
   "execution_count": null,
   "metadata": {
    "collapsed": true
   },
   "outputs": [],
   "source": [
    "import lime\n",
    "import lime.lime_tabular\n",
    "explainerx1 = lime.lime_tabular.LimeTabularExplainer(training_data=x_train1, mode='classification')\n",
    "explanationx1 = explainerx1.explain_instance(x_test1[0], model1.predict_proba, num_features=5)\n",
    "explainerx2 = lime.lime_tabular.LimeTabularExplainer(training_data=x_train2, mode='classification')\n",
    "explanationx2 = explainerx2.explain_instance(x_test2[0], model2.predict_proba, num_features=5)\n",
    "\n",
    "explainery1 = lime.lime_tabular.LimeTabularExplainer(training_data=x_train1, mode='classification')\n",
    "explanationy1 = explainery1.explain_instance(y_test1[0], model1.predict_proba, num_features=5)\n",
    "explainery2 = lime.lime_tabular.LimeTabularExplainer(training_data=x_train2, mode='classification')\n",
    "explanationy2 = explainery2.explain_instance(y_test2[0], model2.predict_proba, num_features=5)\n",
    "# print(explanation.as_list())\n",
    "explanationx1.as_pyplot_figure()\n",
    "explanationx2.as_pyplot_figure()\n",
    "\n",
    "explanationy1.as_pyplot_figure()\n",
    "explanationy2.as_pyplot_figure()\n",
    "\n",
    "from matplotlib import pyplot as plt\n",
    "# plt.savefig()\n",
    "#this is to save the figures\n",
    "\n"
   ]
  },
  {
   "cell_type": "code",
   "execution_count": 1,
   "metadata": {},
   "outputs": [],
   "source": [
    "%load_ext autoreload\n",
    "%autoreload 2"
   ]
  },
  {
   "cell_type": "code",
   "execution_count": 2,
   "metadata": {},
   "outputs": [],
   "source": [
    "import os\n",
    "import sys\n",
    "currDir = os.path.dirname(os.path.realpath(\"__file__\"))\n",
    "rootDir = os.path.abspath(os.path.join(currDir, '..'))\n",
    "sys.path.insert(1, rootDir)"
   ]
  },
  {
   "cell_type": "code",
   "execution_count": 8,
   "metadata": {},
   "outputs": [],
   "source": [
    "import lime\n",
    "import lime.lime_tabular\n",
    "import numpy as np\n",
    "from matplotlib import pyplot as plt\n",
    "from src.utils.file_utils import load_df, load_model"
   ]
  },
  {
   "cell_type": "code",
   "execution_count": 7,
   "metadata": {},
   "outputs": [
    {
     "name": "stdout",
     "output_type": "stream",
     "text": [
      "      mode     speed        fe        tt  consumption\n",
      "0 -0.87831 -0.956989 -0.596374 -1.138679    -0.314801\n",
      "1 -0.29277  0.157653 -1.332621  1.491729    -0.301414\n",
      "Model successfully loaded | file_location: /Users/test/Documents/GitHub/xai-senior-design/models/model2.h5\n"
     ]
    }
   ],
   "source": [
    "df_trained_normed = load_df(\"norm_test2.csv\")\n",
    "print(df_trained_normed.head(2))\n",
    "model = load_model(\"model2.h5\")"
   ]
  },
  {
   "cell_type": "code",
   "execution_count": null,
   "metadata": {},
   "outputs": [],
   "source": []
  }
 ],
 "metadata": {
  "kernelspec": {
   "display_name": "Python 3",
   "language": "python",
   "name": "python3"
  },
  "language_info": {
   "codemirror_mode": {
    "name": "ipython",
    "version": 3
   },
   "file_extension": ".py",
   "mimetype": "text/x-python",
   "name": "python",
   "nbconvert_exporter": "python",
   "pygments_lexer": "ipython3",
   "version": "3.7.6"
  },
  "pycharm": {
   "stem_cell": {
    "cell_type": "raw",
    "metadata": {
     "collapsed": false
    },
    "source": []
   }
  }
 },
 "nbformat": 4,
 "nbformat_minor": 1
}
