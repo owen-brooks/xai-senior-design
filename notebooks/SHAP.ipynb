{
 "cells": [
  {
   "cell_type": "markdown",
   "metadata": {},
   "source": [
    "## setup"
   ]
  },
  {
   "cell_type": "code",
   "execution_count": 1,
   "metadata": {},
   "outputs": [],
   "source": [
    "%load_ext autoreload\n",
    "%autoreload 2"
   ]
  },
  {
   "cell_type": "code",
   "execution_count": 2,
   "metadata": {},
   "outputs": [],
   "source": [
    "import os\n",
    "import sys\n",
    "currDir = os.path.dirname(os.path.realpath(\"__file__\"))\n",
    "rootDir = os.path.abspath(os.path.join(currDir, '..'))\n",
    "sys.path.insert(1, rootDir)"
   ]
  },
  {
   "cell_type": "code",
   "execution_count": 3,
   "metadata": {},
   "outputs": [],
   "source": [
    "import shap\n",
    "from src.utils.file_utils import load_df, load_model"
   ]
  },
  {
   "cell_type": "code",
   "execution_count": 4,
   "metadata": {},
   "outputs": [
    {
     "name": "stdout",
     "output_type": "stream",
     "text": [
      "Model successfully loaded | file_location: C:\\Users\\archg\\school\\senoir\\xai-senior-design\\models\\model1.h5\n"
     ]
    }
   ],
   "source": [
    "df_trained_normed = load_df(\"norm_train1.csv\")\n",
    "model = load_model(\"model1.h5\")"
   ]
  },
  {
   "cell_type": "code",
   "execution_count": null,
   "metadata": {},
   "outputs": [],
   "source": [
    "df_train_normed_summary = shap.kmeans(df_trained_normed.values, 25)\n",
    "explainer = shap.KernelExplainer(model.predict, df_train_normed_summary)\n",
    "shap_values = explainer.shap_values(df_train_normed.values)\n",
    "# Summarize the Shapley values in a plot\n",
    "shap.summary_plot(shap_values[0], df_train_normed)"
   ]
  },
  {
   "cell_type": "code",
   "execution_count": null,
   "metadata": {},
   "outputs": [],
   "source": []
  }
 ],
 "metadata": {
  "kernelspec": {
   "display_name": "Python 3",
   "language": "python",
   "name": "python3"
  },
  "language_info": {
   "codemirror_mode": {
    "name": "ipython",
    "version": 3
   },
   "file_extension": ".py",
   "mimetype": "text/x-python",
   "name": "python",
   "nbconvert_exporter": "python",
   "pygments_lexer": "ipython3",
   "version": "3.7.1"
  }
 },
 "nbformat": 4,
 "nbformat_minor": 2
}
