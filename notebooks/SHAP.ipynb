{
 "cells": [
  {
   "cell_type": "markdown",
   "metadata": {},
   "source": [
    "## setup"
   ]
  },
  {
   "cell_type": "code",
   "execution_count": 1,
   "metadata": {},
   "outputs": [],
   "source": [
    "%load_ext autoreload\n",
    "%autoreload 2"
   ]
  },
  {
   "cell_type": "code",
   "execution_count": 2,
   "metadata": {},
   "outputs": [],
   "source": [
    "import os\n",
    "import sys\n",
    "currDir = os.path.dirname(os.path.realpath(\"__file__\"))\n",
    "rootDir = os.path.abspath(os.path.join(currDir, '..'))\n",
    "sys.path.insert(1, rootDir)"
   ]
  },
  {
   "cell_type": "code",
   "execution_count": 11,
   "metadata": {},
   "outputs": [],
   "source": [
    "import shap\n",
    "import numpy as np\n",
    "from src.utils.file_utils import load_df, load_model"
   ]
  },
  {
   "cell_type": "code",
   "execution_count": 4,
   "metadata": {},
   "outputs": [
    {
     "name": "stdout",
     "output_type": "stream",
     "text": [
      "      mode     speed        fe        tt  consumption\n",
      "0 -0.87831 -0.956989 -0.596374 -1.138679    -0.314801\n",
      "1 -0.29277  0.157653 -1.332621  1.491729    -0.301414\n",
      "Model successfully loaded | file_location: /Users/test/Documents/GitHub/xai-senior-design/models/model2.h5\n"
     ]
    }
   ],
   "source": [
    "df_trained_normed = load_df(\"norm_test2.csv\")\n",
    "print(df_trained_normed.head(2))\n",
    "model = load_model(\"model2.h5\")"
   ]
  },
  {
   "cell_type": "markdown",
   "metadata": {},
   "source": [
    "## evaluation of xai method\n",
    "\n",
    "**helpful resources**:\n",
    "- [shap docs](https://shap.readthedocs.io/en/latest/)\n",
    "- [article 1](https://towardsdatascience.com/explain-any-models-with-the-shap-values-use-the-kernelexplainer-79de9464897a)\n",
    "- [article 2](https://www.elasticfeed.com/74a666af63104f5b35cf8467e1617c32/)"
   ]
  },
  {
   "cell_type": "code",
   "execution_count": null,
   "metadata": {},
   "outputs": [],
   "source": [
    "df_train_normed_summary = shap.kmeans(df_trained_normed.values, 25)\n",
    "explainer = shap.KernelExplainer(model.predict, df_train_normed_summary)\n",
    "sampled_df = df_trained_normed.values\n",
    "sampled_df = sampled_df[np.random.choice(sampled_df.shape[0], 10, replace=False), :]\n",
    "shap_values = explainer.shap_values(sampled_df)\n",
    "# Summarize the Shapley values in a plot\n",
    "shap.summary_plot(shap_values, df_trained_normed)"
   ]
  },
  {
   "cell_type": "code",
   "execution_count": 10,
   "metadata": {},
   "outputs": [
    {
     "name": "stdout",
     "output_type": "stream",
     "text": [
      "<class 'numpy.ndarray'>\n"
     ]
    }
   ],
   "source": [
    "print(type(df_trained_normed.values))"
   ]
  },
  {
   "cell_type": "code",
   "execution_count": null,
   "metadata": {},
   "outputs": [],
   "source": []
  }
 ],
 "metadata": {
  "kernelspec": {
   "display_name": "Python 3",
   "language": "python",
   "name": "python3"
  },
  "language_info": {
   "codemirror_mode": {
    "name": "ipython",
    "version": 3
   },
   "file_extension": ".py",
   "mimetype": "text/x-python",
   "name": "python",
   "nbconvert_exporter": "python",
   "pygments_lexer": "ipython3",
   "version": "3.7.6"
  }
 },
 "nbformat": 4,
 "nbformat_minor": 2
}
