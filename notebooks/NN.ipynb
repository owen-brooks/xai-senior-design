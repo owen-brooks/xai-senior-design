{
 "cells": [
  {
   "cell_type": "markdown",
   "metadata": {},
   "source": [
    "# XAI Neural Net Creation"
   ]
  },
  {
   "cell_type": "markdown",
   "metadata": {},
   "source": [
    "## setup"
   ]
  },
  {
   "cell_type": "code",
   "execution_count": 1,
   "metadata": {},
   "outputs": [],
   "source": [
    "%load_ext autoreload\n",
    "%autoreload 2"
   ]
  },
  {
   "cell_type": "code",
   "execution_count": 2,
   "metadata": {},
   "outputs": [],
   "source": [
    "import os\n",
    "import sys\n",
    "currDir = os.path.dirname(os.path.realpath(\"__file__\"))\n",
    "rootDir = os.path.abspath(os.path.join(currDir, '..'))\n",
    "sys.path.insert(1, rootDir)"
   ]
  },
  {
   "cell_type": "code",
   "execution_count": 3,
   "metadata": {},
   "outputs": [
    {
     "name": "stderr",
     "output_type": "stream",
     "text": [
      "/usr/local/lib/python3.7/site-packages/requests/__init__.py:91: RequestsDependencyWarning: urllib3 (1.23) or chardet (2.0.3) doesn't match a supported version!\n",
      "  RequestsDependencyWarning)\n"
     ]
    }
   ],
   "source": [
    "import pandas as pd\n",
    "import matplotlib.pyplot as plt\n",
    "from sklearn.model_selection import train_test_split\n",
    "from sklearn.preprocessing import StandardScaler, MinMaxScaler\n",
    "from tensorflow.keras.models import Sequential\n",
    "from tensorflow.keras.layers import Dense\n",
    "from tensorflow.keras.optimizers import RMSprop,Adam\n",
    "from tensorflow.keras.utils import to_categorical"
   ]
  },
  {
   "cell_type": "markdown",
   "metadata": {},
   "source": [
    "## generate artificial dataset"
   ]
  },
  {
   "cell_type": "code",
   "execution_count": 42,
   "metadata": {},
   "outputs": [
    {
     "name": "stdout",
     "output_type": "stream",
     "text": [
      "successfully generated dataset | num_rows: 2600000\n",
      "successfully generated dataset | num_rows: 504000\n"
     ]
    }
   ],
   "source": [
    "from src.data.make_dataset import make_dataset_1, make_dataset_2\n",
    "from src.utils.file_utils import save_df\n",
    "\n",
    "df1 = make_dataset_1()\n",
    "df2 = make_dataset_2()\n",
    "# save_df(df1, \"dataset1.csv\")\n",
    "# save_df(df2, \"dataset2.csv\")"
   ]
  },
  {
   "cell_type": "code",
   "execution_count": 5,
   "metadata": {
    "scrolled": true
   },
   "outputs": [
    {
     "data": {
      "text/html": [
       "<div>\n",
       "<style scoped>\n",
       "    .dataframe tbody tr th:only-of-type {\n",
       "        vertical-align: middle;\n",
       "    }\n",
       "\n",
       "    .dataframe tbody tr th {\n",
       "        vertical-align: top;\n",
       "    }\n",
       "\n",
       "    .dataframe thead th {\n",
       "        text-align: right;\n",
       "    }\n",
       "</style>\n",
       "<table border=\"1\" class=\"dataframe\">\n",
       "  <thead>\n",
       "    <tr style=\"text-align: right;\">\n",
       "      <th></th>\n",
       "      <th>mode</th>\n",
       "      <th>ei</th>\n",
       "      <th>to</th>\n",
       "      <th>td</th>\n",
       "      <th>tf</th>\n",
       "      <th>vers</th>\n",
       "      <th>consumption</th>\n",
       "    </tr>\n",
       "  </thead>\n",
       "  <tbody>\n",
       "    <tr>\n",
       "      <th>count</th>\n",
       "      <td>2.600000e+06</td>\n",
       "      <td>2.600000e+06</td>\n",
       "      <td>2.600000e+06</td>\n",
       "      <td>2.600000e+06</td>\n",
       "      <td>2.600000e+06</td>\n",
       "      <td>2.600000e+06</td>\n",
       "      <td>2.600000e+06</td>\n",
       "    </tr>\n",
       "    <tr>\n",
       "      <th>mean</th>\n",
       "      <td>1.160000e+01</td>\n",
       "      <td>1.510916e+00</td>\n",
       "      <td>2.940000e+01</td>\n",
       "      <td>6.505000e+01</td>\n",
       "      <td>1.050000e+01</td>\n",
       "      <td>4.500000e+00</td>\n",
       "      <td>1.484044e+02</td>\n",
       "    </tr>\n",
       "    <tr>\n",
       "      <th>std</th>\n",
       "      <td>8.002501e+00</td>\n",
       "      <td>1.132716e+00</td>\n",
       "      <td>3.891838e+01</td>\n",
       "      <td>3.752776e+01</td>\n",
       "      <td>5.766282e+00</td>\n",
       "      <td>2.872282e+00</td>\n",
       "      <td>3.282216e+02</td>\n",
       "    </tr>\n",
       "    <tr>\n",
       "      <th>min</th>\n",
       "      <td>5.000000e+00</td>\n",
       "      <td>5.899000e-01</td>\n",
       "      <td>1.000000e+00</td>\n",
       "      <td>1.000000e-01</td>\n",
       "      <td>1.000000e+00</td>\n",
       "      <td>0.000000e+00</td>\n",
       "      <td>6.479167e-06</td>\n",
       "    </tr>\n",
       "    <tr>\n",
       "      <th>25%</th>\n",
       "      <td>5.000000e+00</td>\n",
       "      <td>9.330000e-01</td>\n",
       "      <td>3.000000e+00</td>\n",
       "      <td>3.257500e+01</td>\n",
       "      <td>5.750000e+00</td>\n",
       "      <td>2.000000e+00</td>\n",
       "      <td>6.713139e+00</td>\n",
       "    </tr>\n",
       "    <tr>\n",
       "      <th>50%</th>\n",
       "      <td>6.500000e+00</td>\n",
       "      <td>1.354955e+00</td>\n",
       "      <td>4.500000e+00</td>\n",
       "      <td>6.505000e+01</td>\n",
       "      <td>1.050000e+01</td>\n",
       "      <td>4.500000e+00</td>\n",
       "      <td>3.509333e+01</td>\n",
       "    </tr>\n",
       "    <tr>\n",
       "      <th>75%</th>\n",
       "      <td>2.100000e+01</td>\n",
       "      <td>1.354955e+00</td>\n",
       "      <td>5.500000e+01</td>\n",
       "      <td>9.752500e+01</td>\n",
       "      <td>1.525000e+01</td>\n",
       "      <td>7.000000e+00</td>\n",
       "      <td>1.428353e+02</td>\n",
       "    </tr>\n",
       "    <tr>\n",
       "      <th>max</th>\n",
       "      <td>2.600000e+01</td>\n",
       "      <td>4.814286e+00</td>\n",
       "      <td>1.200000e+02</td>\n",
       "      <td>1.300000e+02</td>\n",
       "      <td>2.000000e+01</td>\n",
       "      <td>9.000000e+00</td>\n",
       "      <td>6.292000e+03</td>\n",
       "    </tr>\n",
       "  </tbody>\n",
       "</table>\n",
       "</div>"
      ],
      "text/plain": [
       "               mode            ei            to            td            tf  \\\n",
       "count  2.600000e+06  2.600000e+06  2.600000e+06  2.600000e+06  2.600000e+06   \n",
       "mean   1.160000e+01  1.510916e+00  2.940000e+01  6.505000e+01  1.050000e+01   \n",
       "std    8.002501e+00  1.132716e+00  3.891838e+01  3.752776e+01  5.766282e+00   \n",
       "min    5.000000e+00  5.899000e-01  1.000000e+00  1.000000e-01  1.000000e+00   \n",
       "25%    5.000000e+00  9.330000e-01  3.000000e+00  3.257500e+01  5.750000e+00   \n",
       "50%    6.500000e+00  1.354955e+00  4.500000e+00  6.505000e+01  1.050000e+01   \n",
       "75%    2.100000e+01  1.354955e+00  5.500000e+01  9.752500e+01  1.525000e+01   \n",
       "max    2.600000e+01  4.814286e+00  1.200000e+02  1.300000e+02  2.000000e+01   \n",
       "\n",
       "               vers   consumption  \n",
       "count  2.600000e+06  2.600000e+06  \n",
       "mean   4.500000e+00  1.484044e+02  \n",
       "std    2.872282e+00  3.282216e+02  \n",
       "min    0.000000e+00  6.479167e-06  \n",
       "25%    2.000000e+00  6.713139e+00  \n",
       "50%    4.500000e+00  3.509333e+01  \n",
       "75%    7.000000e+00  1.428353e+02  \n",
       "max    9.000000e+00  6.292000e+03  "
      ]
     },
     "execution_count": 5,
     "metadata": {},
     "output_type": "execute_result"
    }
   ],
   "source": [
    "df2.describe()\n",
    "df1.describe()"
   ]
  },
  {
   "cell_type": "code",
   "execution_count": 6,
   "metadata": {},
   "outputs": [],
   "source": [
    "from src.utils.file_utils import load_df\n",
    "df1, df2 = load_df(\"dataset1.csv\"), load_df(\"dataset2.csv\")"
   ]
  },
  {
   "cell_type": "markdown",
   "metadata": {},
   "source": [
    "## create neural nets"
   ]
  },
  {
   "cell_type": "code",
   "execution_count": 59,
   "metadata": {},
   "outputs": [],
   "source": [
    "# def build_model():    \n",
    "#     model = Sequential()\n",
    "#     model.add(Dense(6, input_dim=5, activation=\"relu\"))#hidden layer\n",
    "#     model.add(Dense(10, activation=\"relu\"))#hidden layer\n",
    "#     model.add(Dense(1, activation='sigmoid'))#output layer\n",
    "\n",
    "#     optimizer = RMSprop(0.001)\n",
    "#     model.compile(loss='mse', optimizer=optimizer, metrics=['mse', 'mae', 'mape'])\n",
    "#     return model\n",
    "\n",
    "def build_model(num_features, num_classes):\n",
    "    model = Sequential()\n",
    "    model.add(Dense(32, input_shape=(num_features,), activation='relu'))\n",
    "    model.add(Dense(16, activation='relu'))\n",
    "    model.add(Dense(num_classes, activation='softmax'))\n",
    "    model.compile(loss='categorical_crossentropy', # Cross-entropy\n",
    "                optimizer='adam', metrics=['accuracy'])\n",
    "    return model"
   ]
  },
  {
   "cell_type": "markdown",
   "metadata": {},
   "source": [
    "## train"
   ]
  },
  {
   "cell_type": "code",
   "execution_count": 43,
   "metadata": {},
   "outputs": [],
   "source": [
    "def prepare_df(df, y_column):\n",
    "    temp_df = df.copy()\n",
    "    temp_df.sample(frac=1)\n",
    "    \n",
    "    y = to_categorical(\n",
    "        temp_df[y_column].values)\n",
    "    temp_df.drop(columns=[y_column], inplace=True, axis=1)\n",
    "    \n",
    "    x = temp_df.values\n",
    "    scaler = StandardScaler()\n",
    "    scaler.fit(x)\n",
    "    x = scaler.transform(x)\n",
    "    \n",
    "    return x,y\n",
    "\n",
    "x1, y1 = prepare_df(df1, \"vers\")\n",
    "x_train1, x_test1, y_train1, y_test1 = train_test_split(x1, y1, test_size=0.20)\n",
    "\n",
    "x2, y2 = prepare_df(df2, \"vers\")\n",
    "x_train2, x_test2, y_train2, y_test2 = train_test_split(x2, y2, test_size=0.20)"
   ]
  },
  {
   "cell_type": "code",
   "execution_count": 60,
   "metadata": {
    "scrolled": true
   },
   "outputs": [
    {
     "name": "stdout",
     "output_type": "stream",
     "text": [
      "Train on 1664000 samples, validate on 416000 samples\n",
      "Epoch 1/10\n",
      "1664000/1664000 - 43s - loss: 1.0511 - accuracy: 0.6320 - val_loss: 0.6964 - val_accuracy: 0.7648\n",
      "Epoch 2/10\n",
      "1664000/1664000 - 34s - loss: 0.6022 - accuracy: 0.7837 - val_loss: 0.5295 - val_accuracy: 0.8039\n",
      "Epoch 3/10\n",
      "1664000/1664000 - 38s - loss: 0.4954 - accuracy: 0.8130 - val_loss: 0.4711 - val_accuracy: 0.8212\n",
      "Epoch 4/10\n",
      "1664000/1664000 - 39s - loss: 0.4474 - accuracy: 0.8281 - val_loss: 0.4388 - val_accuracy: 0.8288\n",
      "Epoch 5/10\n",
      "1664000/1664000 - 40s - loss: 0.4188 - accuracy: 0.8376 - val_loss: 0.4031 - val_accuracy: 0.8490\n",
      "Epoch 6/10\n",
      "1664000/1664000 - 45s - loss: 0.3955 - accuracy: 0.8452 - val_loss: 0.3891 - val_accuracy: 0.8444\n",
      "Epoch 7/10\n",
      "1664000/1664000 - 36s - loss: 0.3790 - accuracy: 0.8499 - val_loss: 0.3752 - val_accuracy: 0.8557\n",
      "Epoch 8/10\n",
      "1664000/1664000 - 25s - loss: 0.3664 - accuracy: 0.8550 - val_loss: 0.3859 - val_accuracy: 0.8458\n",
      "Epoch 9/10\n",
      "1664000/1664000 - 37s - loss: 0.3573 - accuracy: 0.8593 - val_loss: 0.3516 - val_accuracy: 0.8618\n",
      "Epoch 10/10\n",
      "1664000/1664000 - 36s - loss: 0.3496 - accuracy: 0.8632 - val_loss: 0.3454 - val_accuracy: 0.8601\n"
     ]
    }
   ],
   "source": [
    "model1 = build_model(6,10)\n",
    "history1 = model1.fit(x_train1, y_train1, epochs=10, validation_split=0.2, batch_size=128, verbose=2)"
   ]
  },
  {
   "cell_type": "code",
   "execution_count": 66,
   "metadata": {},
   "outputs": [
    {
     "name": "stdout",
     "output_type": "stream",
     "text": [
      "Train on 322560 samples, validate on 80640 samples\n",
      "Epoch 1/15\n",
      "322560/322560 - 5s - loss: 1.3234 - accuracy: 0.4344 - val_loss: 1.0813 - val_accuracy: 0.5489\n",
      "Epoch 2/15\n",
      "322560/322560 - 4s - loss: 0.9854 - accuracy: 0.5679 - val_loss: 0.9069 - val_accuracy: 0.6536\n",
      "Epoch 3/15\n",
      "322560/322560 - 4s - loss: 0.8565 - accuracy: 0.6565 - val_loss: 0.8161 - val_accuracy: 0.6689\n",
      "Epoch 4/15\n",
      "322560/322560 - 4s - loss: 0.7729 - accuracy: 0.7157 - val_loss: 0.7424 - val_accuracy: 0.7190\n",
      "Epoch 5/15\n",
      "322560/322560 - 4s - loss: 0.7089 - accuracy: 0.7520 - val_loss: 0.6945 - val_accuracy: 0.7386\n",
      "Epoch 6/15\n",
      "322560/322560 - 4s - loss: 0.6559 - accuracy: 0.7826 - val_loss: 0.6265 - val_accuracy: 0.8509\n",
      "Epoch 7/15\n",
      "322560/322560 - 4s - loss: 0.6119 - accuracy: 0.8053 - val_loss: 0.5908 - val_accuracy: 0.7916\n",
      "Epoch 8/15\n",
      "322560/322560 - 4s - loss: 0.5749 - accuracy: 0.8241 - val_loss: 0.5651 - val_accuracy: 0.8217\n",
      "Epoch 9/15\n",
      "322560/322560 - 4s - loss: 0.5425 - accuracy: 0.8392 - val_loss: 0.5469 - val_accuracy: 0.7913\n",
      "Epoch 10/15\n",
      "322560/322560 - 4s - loss: 0.5149 - accuracy: 0.8515 - val_loss: 0.5075 - val_accuracy: 0.8402\n",
      "Epoch 11/15\n",
      "322560/322560 - 4s - loss: 0.4919 - accuracy: 0.8600 - val_loss: 0.4834 - val_accuracy: 0.8694\n",
      "Epoch 12/15\n",
      "322560/322560 - 4s - loss: 0.4732 - accuracy: 0.8636 - val_loss: 0.4625 - val_accuracy: 0.8794\n",
      "Epoch 13/15\n",
      "322560/322560 - 4s - loss: 0.4555 - accuracy: 0.8700 - val_loss: 0.4444 - val_accuracy: 0.8846\n",
      "Epoch 14/15\n",
      "322560/322560 - 4s - loss: 0.4388 - accuracy: 0.8765 - val_loss: 0.4318 - val_accuracy: 0.8869\n",
      "Epoch 15/15\n",
      "322560/322560 - 4s - loss: 0.4249 - accuracy: 0.8795 - val_loss: 0.4275 - val_accuracy: 0.8747\n"
     ]
    }
   ],
   "source": [
    "model2 = build_model(5,7)\n",
    "history = model2.fit(x_train2, y_train2, epochs=15, validation_split=0.2, batch_size=128, verbose=2)"
   ]
  },
  {
   "cell_type": "markdown",
   "metadata": {},
   "source": [
    "## test"
   ]
  },
  {
   "cell_type": "code",
   "execution_count": 67,
   "metadata": {},
   "outputs": [
    {
     "name": "stdout",
     "output_type": "stream",
     "text": [
      "520000/520000 [==============================] - 17s 33us/sample - loss: 0.3458 - accuracy: 0.8595\n",
      "[0.34577132857785775, 0.8594904]\n",
      "100800/100800 [==============================] - 4s 36us/sample - loss: 0.4243 - accuracy: 0.8750\n",
      "[0.42430493939017494, 0.8750099]\n"
     ]
    }
   ],
   "source": [
    "print(model1.evaluate(x_test1, y_test1))\n",
    "print(model2.evaluate(x_test2, y_test2))\n",
    "# [0.09895923781607832, 0.85723215]"
   ]
  },
  {
   "cell_type": "code",
   "execution_count": 35,
   "metadata": {},
   "outputs": [
    {
     "name": "stdout",
     "output_type": "stream",
     "text": [
      "8 8\n",
      "4 4\n",
      "7 2\n",
      "4 4\n",
      "9 8\n",
      "2 2\n",
      "4 4\n",
      "6 6\n",
      "5 9\n",
      "0 2\n"
     ]
    }
   ],
   "source": [
    "preds = model2.predict_classes(x_test2)\n",
    "# print(preds)\n",
    "for i in range(len(y_test2[:10])):\n",
    "    print(preds[i], list(y_test2[i]).index(1))"
   ]
  },
  {
   "cell_type": "code",
   "execution_count": null,
   "metadata": {},
   "outputs": [],
   "source": [
    "from src.utils.file_utils import"
   ]
  },
  {
   "cell_type": "code",
   "execution_count": null,
   "metadata": {},
   "outputs": [],
   "source": []
  }
 ],
 "metadata": {
  "kernelspec": {
   "display_name": "Python 3",
   "language": "python",
   "name": "python3"
  },
  "language_info": {
   "codemirror_mode": {
    "name": "ipython",
    "version": 3
   },
   "file_extension": ".py",
   "mimetype": "text/x-python",
   "name": "python",
   "nbconvert_exporter": "python",
   "pygments_lexer": "ipython3",
   "version": "3.7.6"
  }
 },
 "nbformat": 4,
 "nbformat_minor": 2
}
