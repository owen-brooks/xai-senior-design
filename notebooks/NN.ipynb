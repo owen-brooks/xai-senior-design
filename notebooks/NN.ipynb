{
 "cells": [
  {
   "cell_type": "markdown",
   "metadata": {},
   "source": [
    "# XAI Neural Net Creation"
   ]
  },
  {
   "cell_type": "markdown",
   "metadata": {},
   "source": [
    "## setup"
   ]
  },
  {
   "cell_type": "code",
   "execution_count": 36,
   "metadata": {},
   "outputs": [
    {
     "name": "stdout",
     "output_type": "stream",
     "text": [
      "The autoreload extension is already loaded. To reload it, use:\n",
      "  %reload_ext autoreload\n"
     ]
    }
   ],
   "source": [
    "%load_ext autoreload\n",
    "%autoreload 2"
   ]
  },
  {
   "cell_type": "code",
   "execution_count": 37,
   "metadata": {},
   "outputs": [],
   "source": [
    "import os\n",
    "import sys\n",
    "currDir = os.path.dirname(os.path.realpath(\"__file__\"))\n",
    "rootDir = os.path.abspath(os.path.join(currDir, '..'))\n",
    "sys.path.insert(1, rootDir)"
   ]
  },
  {
   "cell_type": "code",
   "execution_count": 38,
   "metadata": {},
   "outputs": [],
   "source": [
    "import pandas as pd\n",
    "import matplotlib.pyplot as plt\n",
    "from sklearn.model_selection import train_test_split\n",
    "from sklearn.preprocessing import StandardScaler, MinMaxScaler, LabelEncoder, OneHotEncoder\n",
    "from tensorflow.keras.models import Sequential\n",
    "from tensorflow.keras.layers import Dense\n",
    "from tensorflow.keras.optimizers import RMSprop,Adam\n",
    "from tensorflow.keras.utils import to_categorical\n",
    "\n",
    "from src.data.make_dataset import make_dataset_1, make_dataset_2\n",
    "from src.utils.file_utils import save_df, save_model"
   ]
  },
  {
   "cell_type": "markdown",
   "metadata": {},
   "source": [
    "## generate artificial dataset"
   ]
  },
  {
   "cell_type": "code",
   "execution_count": 39,
   "metadata": {},
   "outputs": [
    {
     "name": "stdout",
     "output_type": "stream",
     "text": [
      "successfully generated dataset | num_rows: 2600000\n",
      "successfully generated dataset | num_rows: 504000\n",
      "df successfully saved | filename: dataset1.csv, dir: C:\\Users\\archg\\school\\senoir\\xai-senior-design\\data\n",
      "df successfully saved | filename: dataset2.csv, dir: C:\\Users\\archg\\school\\senoir\\xai-senior-design\\data\n"
     ]
    }
   ],
   "source": [
    "df1 = make_dataset_1()\n",
    "df2 = make_dataset_2()\n",
    "save_df(df1, \"dataset1.csv\")\n",
    "save_df(df2, \"dataset2.csv\")"
   ]
  },
  {
   "cell_type": "code",
   "execution_count": 40,
   "metadata": {
    "scrolled": true
   },
   "outputs": [
    {
     "data": {
      "text/html": [
       "<div>\n",
       "<style scoped>\n",
       "    .dataframe tbody tr th:only-of-type {\n",
       "        vertical-align: middle;\n",
       "    }\n",
       "\n",
       "    .dataframe tbody tr th {\n",
       "        vertical-align: top;\n",
       "    }\n",
       "\n",
       "    .dataframe thead th {\n",
       "        text-align: right;\n",
       "    }\n",
       "</style>\n",
       "<table border=\"1\" class=\"dataframe\">\n",
       "  <thead>\n",
       "    <tr style=\"text-align: right;\">\n",
       "      <th></th>\n",
       "      <th>ei</th>\n",
       "      <th>to</th>\n",
       "      <th>td</th>\n",
       "      <th>tf</th>\n",
       "      <th>vers</th>\n",
       "    </tr>\n",
       "  </thead>\n",
       "  <tbody>\n",
       "    <tr>\n",
       "      <th>count</th>\n",
       "      <td>2.600000e+06</td>\n",
       "      <td>2.600000e+06</td>\n",
       "      <td>2.600000e+06</td>\n",
       "      <td>2.600000e+06</td>\n",
       "      <td>2.600000e+06</td>\n",
       "    </tr>\n",
       "    <tr>\n",
       "      <th>mean</th>\n",
       "      <td>1.854442e+00</td>\n",
       "      <td>2.677224e+02</td>\n",
       "      <td>7.155500e+01</td>\n",
       "      <td>1.216666e+01</td>\n",
       "      <td>4.500000e+00</td>\n",
       "    </tr>\n",
       "    <tr>\n",
       "      <th>std</th>\n",
       "      <td>3.186181e+00</td>\n",
       "      <td>1.555065e+03</td>\n",
       "      <td>4.702838e+01</td>\n",
       "      <td>1.125711e+01</td>\n",
       "      <td>2.872282e+00</td>\n",
       "    </tr>\n",
       "    <tr>\n",
       "      <th>min</th>\n",
       "      <td>3.479820e-01</td>\n",
       "      <td>1.000000e+00</td>\n",
       "      <td>1.000000e-01</td>\n",
       "      <td>1.000000e+00</td>\n",
       "      <td>0.000000e+00</td>\n",
       "    </tr>\n",
       "    <tr>\n",
       "      <th>25%</th>\n",
       "      <td>9.330000e-01</td>\n",
       "      <td>3.000000e+00</td>\n",
       "      <td>3.430000e+01</td>\n",
       "      <td>3.968246e+00</td>\n",
       "      <td>2.000000e+00</td>\n",
       "    </tr>\n",
       "    <tr>\n",
       "      <th>50%</th>\n",
       "      <td>1.354955e+00</td>\n",
       "      <td>5.000000e+00</td>\n",
       "      <td>6.850000e+01</td>\n",
       "      <td>9.000000e+00</td>\n",
       "      <td>4.500000e+00</td>\n",
       "    </tr>\n",
       "    <tr>\n",
       "      <th>75%</th>\n",
       "      <td>1.354955e+00</td>\n",
       "      <td>5.500000e+01</td>\n",
       "      <td>1.027000e+02</td>\n",
       "      <td>1.700000e+01</td>\n",
       "      <td>7.000000e+00</td>\n",
       "    </tr>\n",
       "    <tr>\n",
       "      <th>max</th>\n",
       "      <td>2.317735e+01</td>\n",
       "      <td>1.440000e+04</td>\n",
       "      <td>2.600000e+02</td>\n",
       "      <td>6.000000e+01</td>\n",
       "      <td>9.000000e+00</td>\n",
       "    </tr>\n",
       "  </tbody>\n",
       "</table>\n",
       "</div>"
      ],
      "text/plain": [
       "                 ei            to            td            tf          vers\n",
       "count  2.600000e+06  2.600000e+06  2.600000e+06  2.600000e+06  2.600000e+06\n",
       "mean   1.854442e+00  2.677224e+02  7.155500e+01  1.216666e+01  4.500000e+00\n",
       "std    3.186181e+00  1.555065e+03  4.702838e+01  1.125711e+01  2.872282e+00\n",
       "min    3.479820e-01  1.000000e+00  1.000000e-01  1.000000e+00  0.000000e+00\n",
       "25%    9.330000e-01  3.000000e+00  3.430000e+01  3.968246e+00  2.000000e+00\n",
       "50%    1.354955e+00  5.000000e+00  6.850000e+01  9.000000e+00  4.500000e+00\n",
       "75%    1.354955e+00  5.500000e+01  1.027000e+02  1.700000e+01  7.000000e+00\n",
       "max    2.317735e+01  1.440000e+04  2.600000e+02  6.000000e+01  9.000000e+00"
      ]
     },
     "execution_count": 40,
     "metadata": {},
     "output_type": "execute_result"
    }
   ],
   "source": [
    "df1.describe()"
   ]
  },
  {
   "cell_type": "code",
   "execution_count": 41,
   "metadata": {},
   "outputs": [
    {
     "data": {
      "text/html": [
       "<div>\n",
       "<style scoped>\n",
       "    .dataframe tbody tr th:only-of-type {\n",
       "        vertical-align: middle;\n",
       "    }\n",
       "\n",
       "    .dataframe tbody tr th {\n",
       "        vertical-align: top;\n",
       "    }\n",
       "\n",
       "    .dataframe thead th {\n",
       "        text-align: right;\n",
       "    }\n",
       "</style>\n",
       "<table border=\"1\" class=\"dataframe\">\n",
       "  <thead>\n",
       "    <tr style=\"text-align: right;\">\n",
       "      <th></th>\n",
       "      <th>speed</th>\n",
       "      <th>fe</th>\n",
       "      <th>tt</th>\n",
       "      <th>vers</th>\n",
       "    </tr>\n",
       "  </thead>\n",
       "  <tbody>\n",
       "    <tr>\n",
       "      <th>count</th>\n",
       "      <td>504000.000000</td>\n",
       "      <td>504000.000000</td>\n",
       "      <td>504000.000000</td>\n",
       "      <td>504000.000000</td>\n",
       "    </tr>\n",
       "    <tr>\n",
       "      <th>mean</th>\n",
       "      <td>65.260247</td>\n",
       "      <td>0.952462</td>\n",
       "      <td>729.525361</td>\n",
       "      <td>3.000000</td>\n",
       "    </tr>\n",
       "    <tr>\n",
       "      <th>std</th>\n",
       "      <td>192.803630</td>\n",
       "      <td>0.308689</td>\n",
       "      <td>2322.622952</td>\n",
       "      <td>2.000002</td>\n",
       "    </tr>\n",
       "    <tr>\n",
       "      <th>min</th>\n",
       "      <td>2.764055</td>\n",
       "      <td>0.347982</td>\n",
       "      <td>0.000000</td>\n",
       "      <td>0.000000</td>\n",
       "    </tr>\n",
       "    <tr>\n",
       "      <th>25%</th>\n",
       "      <td>7.640000</td>\n",
       "      <td>0.787200</td>\n",
       "      <td>17.167500</td>\n",
       "      <td>1.000000</td>\n",
       "    </tr>\n",
       "    <tr>\n",
       "      <th>50%</th>\n",
       "      <td>14.335000</td>\n",
       "      <td>0.887243</td>\n",
       "      <td>58.465000</td>\n",
       "      <td>3.000000</td>\n",
       "    </tr>\n",
       "    <tr>\n",
       "      <th>75%</th>\n",
       "      <td>34.130000</td>\n",
       "      <td>1.210000</td>\n",
       "      <td>99.992500</td>\n",
       "      <td>5.000000</td>\n",
       "    </tr>\n",
       "    <tr>\n",
       "      <th>max</th>\n",
       "      <td>1164.856900</td>\n",
       "      <td>1.889800</td>\n",
       "      <td>14397.600100</td>\n",
       "      <td>6.000000</td>\n",
       "    </tr>\n",
       "  </tbody>\n",
       "</table>\n",
       "</div>"
      ],
      "text/plain": [
       "               speed             fe             tt           vers\n",
       "count  504000.000000  504000.000000  504000.000000  504000.000000\n",
       "mean       65.260247       0.952462     729.525361       3.000000\n",
       "std       192.803630       0.308689    2322.622952       2.000002\n",
       "min         2.764055       0.347982       0.000000       0.000000\n",
       "25%         7.640000       0.787200      17.167500       1.000000\n",
       "50%        14.335000       0.887243      58.465000       3.000000\n",
       "75%        34.130000       1.210000      99.992500       5.000000\n",
       "max      1164.856900       1.889800   14397.600100       6.000000"
      ]
     },
     "execution_count": 41,
     "metadata": {},
     "output_type": "execute_result"
    }
   ],
   "source": [
    "df2.describe()"
   ]
  },
  {
   "cell_type": "code",
   "execution_count": 42,
   "metadata": {},
   "outputs": [
    {
     "data": {
      "text/html": [
       "<div>\n",
       "<style scoped>\n",
       "    .dataframe tbody tr th:only-of-type {\n",
       "        vertical-align: middle;\n",
       "    }\n",
       "\n",
       "    .dataframe tbody tr th {\n",
       "        vertical-align: top;\n",
       "    }\n",
       "\n",
       "    .dataframe thead th {\n",
       "        text-align: right;\n",
       "    }\n",
       "</style>\n",
       "<table border=\"1\" class=\"dataframe\">\n",
       "  <thead>\n",
       "    <tr style=\"text-align: right;\">\n",
       "      <th></th>\n",
       "      <th>mode</th>\n",
       "      <th>ei</th>\n",
       "      <th>to</th>\n",
       "      <th>td</th>\n",
       "      <th>tf</th>\n",
       "      <th>vers</th>\n",
       "    </tr>\n",
       "  </thead>\n",
       "  <tbody>\n",
       "    <tr>\n",
       "      <th>0</th>\n",
       "      <td>Taxi/Shuttle/Private Transit</td>\n",
       "      <td>1.21</td>\n",
       "      <td>3.0</td>\n",
       "      <td>0.1</td>\n",
       "      <td>1.0</td>\n",
       "      <td>0</td>\n",
       "    </tr>\n",
       "    <tr>\n",
       "      <th>1</th>\n",
       "      <td>Taxi/Shuttle/Private Transit</td>\n",
       "      <td>1.21</td>\n",
       "      <td>3.0</td>\n",
       "      <td>0.2</td>\n",
       "      <td>1.0</td>\n",
       "      <td>0</td>\n",
       "    </tr>\n",
       "    <tr>\n",
       "      <th>2</th>\n",
       "      <td>Taxi/Shuttle/Private Transit</td>\n",
       "      <td>1.21</td>\n",
       "      <td>3.0</td>\n",
       "      <td>0.3</td>\n",
       "      <td>1.0</td>\n",
       "      <td>0</td>\n",
       "    </tr>\n",
       "    <tr>\n",
       "      <th>3</th>\n",
       "      <td>Taxi/Shuttle/Private Transit</td>\n",
       "      <td>1.21</td>\n",
       "      <td>3.0</td>\n",
       "      <td>0.4</td>\n",
       "      <td>1.0</td>\n",
       "      <td>0</td>\n",
       "    </tr>\n",
       "    <tr>\n",
       "      <th>4</th>\n",
       "      <td>Taxi/Shuttle/Private Transit</td>\n",
       "      <td>1.21</td>\n",
       "      <td>3.0</td>\n",
       "      <td>0.5</td>\n",
       "      <td>1.0</td>\n",
       "      <td>0</td>\n",
       "    </tr>\n",
       "  </tbody>\n",
       "</table>\n",
       "</div>"
      ],
      "text/plain": [
       "                           mode    ei   to   td   tf  vers\n",
       "0  Taxi/Shuttle/Private Transit  1.21  3.0  0.1  1.0     0\n",
       "1  Taxi/Shuttle/Private Transit  1.21  3.0  0.2  1.0     0\n",
       "2  Taxi/Shuttle/Private Transit  1.21  3.0  0.3  1.0     0\n",
       "3  Taxi/Shuttle/Private Transit  1.21  3.0  0.4  1.0     0\n",
       "4  Taxi/Shuttle/Private Transit  1.21  3.0  0.5  1.0     0"
      ]
     },
     "execution_count": 42,
     "metadata": {},
     "output_type": "execute_result"
    }
   ],
   "source": [
    "df1.head()"
   ]
  },
  {
   "cell_type": "code",
   "execution_count": 43,
   "metadata": {},
   "outputs": [
    {
     "data": {
      "text/html": [
       "<div>\n",
       "<style scoped>\n",
       "    .dataframe tbody tr th:only-of-type {\n",
       "        vertical-align: middle;\n",
       "    }\n",
       "\n",
       "    .dataframe tbody tr th {\n",
       "        vertical-align: top;\n",
       "    }\n",
       "\n",
       "    .dataframe thead th {\n",
       "        text-align: right;\n",
       "    }\n",
       "</style>\n",
       "<table border=\"1\" class=\"dataframe\">\n",
       "  <thead>\n",
       "    <tr style=\"text-align: right;\">\n",
       "      <th></th>\n",
       "      <th>mode</th>\n",
       "      <th>speed</th>\n",
       "      <th>fe</th>\n",
       "      <th>tt</th>\n",
       "      <th>vers</th>\n",
       "    </tr>\n",
       "  </thead>\n",
       "  <tbody>\n",
       "    <tr>\n",
       "      <th>0</th>\n",
       "      <td>Bus</td>\n",
       "      <td>7.64</td>\n",
       "      <td>0.7872</td>\n",
       "      <td>0.00</td>\n",
       "      <td>0</td>\n",
       "    </tr>\n",
       "    <tr>\n",
       "      <th>1</th>\n",
       "      <td>Bus</td>\n",
       "      <td>7.64</td>\n",
       "      <td>0.7872</td>\n",
       "      <td>0.01</td>\n",
       "      <td>0</td>\n",
       "    </tr>\n",
       "    <tr>\n",
       "      <th>2</th>\n",
       "      <td>Bus</td>\n",
       "      <td>7.64</td>\n",
       "      <td>0.7872</td>\n",
       "      <td>0.02</td>\n",
       "      <td>0</td>\n",
       "    </tr>\n",
       "    <tr>\n",
       "      <th>3</th>\n",
       "      <td>Bus</td>\n",
       "      <td>7.64</td>\n",
       "      <td>0.7872</td>\n",
       "      <td>0.03</td>\n",
       "      <td>0</td>\n",
       "    </tr>\n",
       "    <tr>\n",
       "      <th>4</th>\n",
       "      <td>Bus</td>\n",
       "      <td>7.64</td>\n",
       "      <td>0.7872</td>\n",
       "      <td>0.04</td>\n",
       "      <td>0</td>\n",
       "    </tr>\n",
       "  </tbody>\n",
       "</table>\n",
       "</div>"
      ],
      "text/plain": [
       "  mode  speed      fe    tt  vers\n",
       "0  Bus   7.64  0.7872  0.00     0\n",
       "1  Bus   7.64  0.7872  0.01     0\n",
       "2  Bus   7.64  0.7872  0.02     0\n",
       "3  Bus   7.64  0.7872  0.03     0\n",
       "4  Bus   7.64  0.7872  0.04     0"
      ]
     },
     "execution_count": 43,
     "metadata": {},
     "output_type": "execute_result"
    }
   ],
   "source": [
    "df2.head()"
   ]
  },
  {
   "cell_type": "code",
   "execution_count": 44,
   "metadata": {},
   "outputs": [],
   "source": [
    "from src.utils.file_utils import load_df\n",
    "df1, df2 = load_df(\"dataset1.csv\"), load_df(\"dataset2.csv\")"
   ]
  },
  {
   "cell_type": "markdown",
   "metadata": {},
   "source": [
    "## create neural nets"
   ]
  },
  {
   "cell_type": "code",
   "execution_count": 45,
   "metadata": {},
   "outputs": [],
   "source": [
    "# def build_model():    \n",
    "#     model = Sequential()\n",
    "#     model.add(Dense(6, input_dim=5, activation=\"relu\"))#hidden layer\n",
    "#     model.add(Dense(10, activation=\"relu\"))#hidden layer\n",
    "#     model.add(Dense(1, activation='sigmoid'))#output layer\n",
    "\n",
    "#     optimizer = RMSprop(0.001)\n",
    "#     model.compile(loss='mse', optimizer=optimizer, metrics=['mse', 'mae', 'mape'])\n",
    "#     return model\n",
    "\n",
    "def build_model(num_features, num_classes):\n",
    "    model = Sequential()\n",
    "    model.add(Dense(256, input_shape=(num_features,), activation='relu'))\n",
    "    model.add(Dense(256, activation='relu'))\n",
    "    model.add(Dense(128, activation='relu'))\n",
    "    model.add(Dense(64, activation='relu'))\n",
    "    model.add(Dense(num_classes, activation='softmax'))\n",
    "    model.compile(loss='categorical_crossentropy', # Cross-entropy\n",
    "                optimizer='adam', metrics=['accuracy'])\n",
    "    return model\n",
    "\n",
    "def build_model2(num_features, num_classes):\n",
    "    model = Sequential()\n",
    "    model.add(Dense(5, input_shape=(num_features,), activation='relu'))\n",
    "    model.add(Dense(8, activation='relu'))\n",
    "    model.add(Dense(num_classes, activation='softmax'))\n",
    "    model.compile(loss='categorical_crossentropy', # Cross-entropy\n",
    "                optimizer='adam', metrics=['accuracy'])\n",
    "    return model"
   ]
  },
  {
   "cell_type": "markdown",
   "metadata": {},
   "source": [
    "## train"
   ]
  },
  {
   "cell_type": "code",
   "execution_count": 82,
   "metadata": {},
   "outputs": [
    {
     "name": "stdout",
     "output_type": "stream",
     "text": [
      "df successfully saved | filename: norm_train1.csv, dir: C:\\Users\\archg\\school\\senoir\\xai-senior-design\\data\n",
      "df successfully saved | filename: norm_test1.csv, dir: C:\\Users\\archg\\school\\senoir\\xai-senior-design\\data\n",
      "df successfully saved | filename: norm_train2.csv, dir: C:\\Users\\archg\\school\\senoir\\xai-senior-design\\data\n",
      "df successfully saved | filename: norm_test2.csv, dir: C:\\Users\\archg\\school\\senoir\\xai-senior-design\\data\n"
     ]
    }
   ],
   "source": [
    "def prepare_df(df, y_column, categorical_feats):\n",
    "    temp_df = df.copy()\n",
    "    temp_df.sample(frac=1)\n",
    "    \n",
    "    y = to_categorical(\n",
    "        temp_df[y_column].values)\n",
    "    temp_df.drop(y_column, axis=1, inplace=True)\n",
    "    features = list(temp_df.columns)\n",
    "    \n",
    "    numeric_col = temp_df[temp_df.columns.difference(categorical_feats)]\n",
    "    scaler = StandardScaler()\n",
    "    temp_df[numeric_col.columns] = scaler.fit_transform(numeric_col)\n",
    "    u = scaler.mean_\n",
    "    s = scaler.scale_\n",
    "    \n",
    "    categorical_names = {}\n",
    "    for feat in categorical_feats:\n",
    "        le = LabelEncoder()\n",
    "        le.fit(temp_df[feat])\n",
    "        temp_df[feat] = le.transform(temp_df[feat])\n",
    "        categorical_names[feat] = le.classes_\n",
    "    x = temp_df.values\n",
    "    return x,y,features,categorical_names,u,s\n",
    "\n",
    "categorical_feat1 = ['mode']\n",
    "x1, y1, features1,cat_feat_names1,u1,s1 = prepare_df(df1, \"vers\", categorical_feat1)\n",
    "x_train1, x_test1, y_train1, y_test1 = train_test_split(x1, y1, test_size=0.20)\n",
    "norm_train1, norm_test1 = pd.DataFrame(x_train1, columns=features1), pd.DataFrame(x_test1, columns=features1)\n",
    "\n",
    "\n",
    "#Only save the train-test if they need to be updated. Be sure to also train the NN and save\n",
    "\n",
    "save_df(norm_train1, \"norm_train1.csv\")\n",
    "save_df(norm_test1, \"norm_test1.csv\")\n",
    "\n",
    "categorical_feat2 = ['mode']\n",
    "x2, y2, features2,cat_feat_names2,u2,s2 = prepare_df(df2, \"vers\", categorical_feat2)\n",
    "x_train2, x_test2, y_train2, y_test2 = train_test_split(x2, y2, test_size=0.20)\n",
    "norm_train2, norm_test2 = pd.DataFrame(x_train2, columns=features2), pd.DataFrame(x_test2, columns=features2)\n",
    "save_df(norm_train2, \"norm_train2.csv\")\n",
    "save_df(norm_test2, \"norm_test2.csv\")"
   ]
  },
  {
   "cell_type": "code",
   "execution_count": 70,
   "metadata": {},
   "outputs": [
    {
     "data": {
      "text/html": [
       "<div>\n",
       "<style scoped>\n",
       "    .dataframe tbody tr th:only-of-type {\n",
       "        vertical-align: middle;\n",
       "    }\n",
       "\n",
       "    .dataframe tbody tr th {\n",
       "        vertical-align: top;\n",
       "    }\n",
       "\n",
       "    .dataframe thead th {\n",
       "        text-align: right;\n",
       "    }\n",
       "</style>\n",
       "<table border=\"1\" class=\"dataframe\">\n",
       "  <thead>\n",
       "    <tr style=\"text-align: right;\">\n",
       "      <th></th>\n",
       "      <th>mode</th>\n",
       "      <th>ei</th>\n",
       "      <th>to</th>\n",
       "    </tr>\n",
       "  </thead>\n",
       "  <tbody>\n",
       "    <tr>\n",
       "      <th>2575025</th>\n",
       "      <td>0</td>\n",
       "      <td>12</td>\n",
       "      <td>4</td>\n",
       "    </tr>\n",
       "    <tr>\n",
       "      <th>2234711</th>\n",
       "      <td>0</td>\n",
       "      <td>12</td>\n",
       "      <td>6</td>\n",
       "    </tr>\n",
       "    <tr>\n",
       "      <th>1744234</th>\n",
       "      <td>0</td>\n",
       "      <td>14</td>\n",
       "      <td>3</td>\n",
       "    </tr>\n",
       "    <tr>\n",
       "      <th>1115583</th>\n",
       "      <td>3</td>\n",
       "      <td>8</td>\n",
       "      <td>22</td>\n",
       "    </tr>\n",
       "    <tr>\n",
       "      <th>1023922</th>\n",
       "      <td>4</td>\n",
       "      <td>16</td>\n",
       "      <td>8</td>\n",
       "    </tr>\n",
       "  </tbody>\n",
       "</table>\n",
       "</div>"
      ],
      "text/plain": [
       "         mode  ei  to\n",
       "2575025     0  12   4\n",
       "2234711     0  12   6\n",
       "1744234     0  14   3\n",
       "1115583     3   8  22\n",
       "1023922     4  16   8"
      ]
     },
     "execution_count": 70,
     "metadata": {},
     "output_type": "execute_result"
    }
   ],
   "source": []
  },
  {
   "cell_type": "code",
   "execution_count": 90,
   "metadata": {},
   "outputs": [
    {
     "name": "stdout",
     "output_type": "stream",
     "text": [
      "['mode', 'ei', 'to', 'td', 'tf']\n",
      "means1:\n",
      "[  1.85444168  71.555       12.16665978 267.72244306]\n",
      "std1:\n",
      "[   3.18618066   47.02836883   11.25710397 1555.06491616]\n",
      "['mode', 'speed', 'fe', 'tt']\n",
      "means2:\n",
      "[  0.95246209  65.2602466  729.52536085]\n",
      "std2:\n",
      "[3.08688256e-01 1.92803439e+02 2.32262065e+03]\n"
     ]
    }
   ],
   "source": [
    "print(features1)\n",
    "print(\"means1:\")\n",
    "print(u1)\n",
    "print(\"std1:\")\n",
    "print(s1)\n",
    "\n",
    "print(features2)\n",
    "print(\"means2:\")\n",
    "print(u2)\n",
    "print(\"std2:\")\n",
    "print(s2)"
   ]
  },
  {
   "cell_type": "code",
   "execution_count": 92,
   "metadata": {
    "scrolled": true
   },
   "outputs": [
    {
     "name": "stdout",
     "output_type": "stream",
     "text": [
      "Train on 1664000 samples, validate on 416000 samples\n",
      "Epoch 1/20\n",
      "1664000/1664000 - 28s - loss: 0.6197 - accuracy: 0.7496 - val_loss: 0.4986 - val_accuracy: 0.7964\n",
      "Epoch 2/20\n",
      "1664000/1664000 - 30s - loss: 0.4991 - accuracy: 0.7837 - val_loss: 0.4715 - val_accuracy: 0.7821\n",
      "Epoch 3/20\n",
      "1664000/1664000 - 28s - loss: 0.4600 - accuracy: 0.7919 - val_loss: 0.4236 - val_accuracy: 0.8092\n",
      "Epoch 4/20\n",
      "1664000/1664000 - 28s - loss: 0.4447 - accuracy: 0.7951 - val_loss: 0.4137 - val_accuracy: 0.8049\n",
      "Epoch 5/20\n",
      "1664000/1664000 - 28s - loss: 0.4278 - accuracy: 0.7995 - val_loss: 0.3923 - val_accuracy: 0.8103\n",
      "Epoch 6/20\n",
      "1664000/1664000 - 28s - loss: 0.4200 - accuracy: 0.8008 - val_loss: 0.4386 - val_accuracy: 0.7866\n",
      "Epoch 7/20\n",
      "1664000/1664000 - 27s - loss: 0.4098 - accuracy: 0.8028 - val_loss: 0.3888 - val_accuracy: 0.8104\n",
      "Epoch 8/20\n",
      "1664000/1664000 - 27s - loss: 0.4034 - accuracy: 0.8040 - val_loss: 0.3852 - val_accuracy: 0.8074\n",
      "Epoch 9/20\n",
      "1664000/1664000 - 28s - loss: 0.4007 - accuracy: 0.8049 - val_loss: 0.3915 - val_accuracy: 0.8065\n",
      "Epoch 10/20\n",
      "1664000/1664000 - 28s - loss: 0.3932 - accuracy: 0.8062 - val_loss: 0.4097 - val_accuracy: 0.7987\n",
      "Epoch 11/20\n",
      "1664000/1664000 - 28s - loss: 0.3922 - accuracy: 0.8061 - val_loss: 0.4752 - val_accuracy: 0.7734\n",
      "Epoch 12/20\n",
      "1664000/1664000 - 28s - loss: 0.3876 - accuracy: 0.8080 - val_loss: 0.3854 - val_accuracy: 0.8115\n",
      "Epoch 13/20\n",
      "1664000/1664000 - 27s - loss: 0.3874 - accuracy: 0.8075 - val_loss: 0.4052 - val_accuracy: 0.8017\n",
      "Epoch 14/20\n",
      "1664000/1664000 - 28s - loss: 0.3867 - accuracy: 0.8078 - val_loss: 0.3838 - val_accuracy: 0.8086\n",
      "Epoch 15/20\n",
      "1664000/1664000 - 29s - loss: 0.3852 - accuracy: 0.8089 - val_loss: 0.3904 - val_accuracy: 0.8051\n",
      "Epoch 16/20\n",
      "1664000/1664000 - 28s - loss: 0.3835 - accuracy: 0.8087 - val_loss: 0.4297 - val_accuracy: 0.7991\n",
      "Epoch 17/20\n",
      "1664000/1664000 - 28s - loss: 0.3785 - accuracy: 0.8104 - val_loss: 0.3628 - val_accuracy: 0.8156\n",
      "Epoch 18/20\n",
      "1664000/1664000 - 28s - loss: 0.3811 - accuracy: 0.8092 - val_loss: 0.3954 - val_accuracy: 0.8056\n",
      "Epoch 19/20\n",
      "1664000/1664000 - 28s - loss: 0.3760 - accuracy: 0.8110 - val_loss: 0.4279 - val_accuracy: 0.7936\n",
      "Epoch 20/20\n",
      "1664000/1664000 - 27s - loss: 0.3789 - accuracy: 0.8099 - val_loss: 0.4305 - val_accuracy: 0.7990\n"
     ]
    }
   ],
   "source": [
    "model1 = build_model(5,10)\n",
    "history1 = model1.fit(x_train1, y_train1, epochs=20, validation_split=0.2, batch_size=128, verbose=2)"
   ]
  },
  {
   "cell_type": "code",
   "execution_count": 93,
   "metadata": {},
   "outputs": [
    {
     "name": "stdout",
     "output_type": "stream",
     "text": [
      "520000/520000 [==============================] - 14s 27us/sample - loss: 0.4288 - accuracy: 0.7991\n",
      "[0.4288094108260595, 0.7990577]\n"
     ]
    }
   ],
   "source": [
    "print(model1.evaluate(x_test1, y_test1))"
   ]
  },
  {
   "cell_type": "code",
   "execution_count": null,
   "metadata": {},
   "outputs": [],
   "source": [
    "a = model1.predict_classes(x_test1[:100])\n",
    "b = y_test1[:100]\n",
    "\n",
    "for idx, val in enumerate(a):\n",
    "    if b[idx][val] == 0:\n",
    "        print(x_test1[idx], a[idx],b[idx])"
   ]
  },
  {
   "cell_type": "code",
   "execution_count": 94,
   "metadata": {
    "scrolled": true
   },
   "outputs": [
    {
     "name": "stdout",
     "output_type": "stream",
     "text": [
      "Train on 1664000 samples, validate on 416000 samples\n",
      "Epoch 1/10\n",
      "1664000/1664000 - 15s - loss: 1.3625 - accuracy: 0.4813 - val_loss: 1.1325 - val_accuracy: 0.5516\n",
      "Epoch 2/10\n",
      "1664000/1664000 - 14s - loss: 1.0856 - accuracy: 0.5844 - val_loss: 1.0350 - val_accuracy: 0.6205\n",
      "Epoch 3/10\n",
      "1664000/1664000 - 15s - loss: 0.9988 - accuracy: 0.6337 - val_loss: 0.9659 - val_accuracy: 0.6367\n",
      "Epoch 4/10\n",
      "1664000/1664000 - 15s - loss: 0.9469 - accuracy: 0.6363 - val_loss: 0.9264 - val_accuracy: 0.6456\n",
      "Epoch 5/10\n",
      "1664000/1664000 - 15s - loss: 0.9175 - accuracy: 0.6386 - val_loss: 0.9047 - val_accuracy: 0.6437\n",
      "Epoch 6/10\n",
      "1664000/1664000 - 15s - loss: 0.9022 - accuracy: 0.6421 - val_loss: 0.8953 - val_accuracy: 0.6341\n",
      "Epoch 7/10\n",
      "1664000/1664000 - 15s - loss: 0.8917 - accuracy: 0.6450 - val_loss: 0.8887 - val_accuracy: 0.6494\n",
      "Epoch 8/10\n",
      "1664000/1664000 - 15s - loss: 0.8834 - accuracy: 0.6465 - val_loss: 0.8810 - val_accuracy: 0.6390\n",
      "Epoch 9/10\n",
      "1664000/1664000 - 15s - loss: 0.8770 - accuracy: 0.6480 - val_loss: 0.8733 - val_accuracy: 0.6506\n",
      "Epoch 10/10\n",
      "1664000/1664000 - 15s - loss: 0.8720 - accuracy: 0.6488 - val_loss: 0.8674 - val_accuracy: 0.6545\n"
     ]
    }
   ],
   "source": [
    "model1_2 = build_model2(5,10)\n",
    "history1_2 = model1_2.fit(x_train1, y_train1, epochs=10, validation_split=0.2, batch_size=128, verbose=2)"
   ]
  },
  {
   "cell_type": "code",
   "execution_count": 95,
   "metadata": {
    "scrolled": true
   },
   "outputs": [
    {
     "name": "stdout",
     "output_type": "stream",
     "text": [
      "Train on 322560 samples, validate on 80640 samples\n",
      "Epoch 1/15\n",
      "322560/322560 - 6s - loss: 0.3026 - accuracy: 0.8870 - val_loss: 0.1945 - val_accuracy: 0.9385\n",
      "Epoch 2/15\n",
      "322560/322560 - 5s - loss: 0.1613 - accuracy: 0.9453 - val_loss: 0.1291 - val_accuracy: 0.9604\n",
      "Epoch 3/15\n",
      "322560/322560 - 5s - loss: 0.1605 - accuracy: 0.9448 - val_loss: 0.1247 - val_accuracy: 0.9654\n",
      "Epoch 4/15\n",
      "322560/322560 - 5s - loss: 0.1525 - accuracy: 0.9480 - val_loss: 0.2357 - val_accuracy: 0.8979\n",
      "Epoch 5/15\n",
      "322560/322560 - 5s - loss: 0.1560 - accuracy: 0.9455 - val_loss: 0.1313 - val_accuracy: 0.9642\n",
      "Epoch 6/15\n",
      "322560/322560 - 5s - loss: 0.1479 - accuracy: 0.9504 - val_loss: 0.1605 - val_accuracy: 0.9404\n",
      "Epoch 7/15\n",
      "322560/322560 - 5s - loss: 0.1499 - accuracy: 0.9491 - val_loss: 0.1167 - val_accuracy: 0.9689\n",
      "Epoch 8/15\n",
      "322560/322560 - 6s - loss: 0.1497 - accuracy: 0.9487 - val_loss: 0.1406 - val_accuracy: 0.9523\n",
      "Epoch 9/15\n",
      "322560/322560 - 5s - loss: 0.1403 - accuracy: 0.9535 - val_loss: 0.1121 - val_accuracy: 0.9665\n",
      "Epoch 10/15\n",
      "322560/322560 - 5s - loss: 0.1438 - accuracy: 0.9534 - val_loss: 0.1132 - val_accuracy: 0.9668\n",
      "Epoch 11/15\n",
      "322560/322560 - 5s - loss: 0.1364 - accuracy: 0.9559 - val_loss: 0.1263 - val_accuracy: 0.9594\n",
      "Epoch 12/15\n",
      "322560/322560 - 5s - loss: 0.1393 - accuracy: 0.9547 - val_loss: 0.1127 - val_accuracy: 0.9664\n",
      "Epoch 13/15\n",
      "322560/322560 - 5s - loss: 0.1342 - accuracy: 0.9568 - val_loss: 0.1220 - val_accuracy: 0.9598\n",
      "Epoch 14/15\n",
      "322560/322560 - 5s - loss: 0.1416 - accuracy: 0.9546 - val_loss: 0.1123 - val_accuracy: 0.9651\n",
      "Epoch 15/15\n",
      "322560/322560 - 5s - loss: 0.1302 - accuracy: 0.9586 - val_loss: 0.1146 - val_accuracy: 0.9650\n"
     ]
    }
   ],
   "source": [
    "model2 = build_model(4,7)\n",
    "history2 = model2.fit(x_train2, y_train2, epochs=15, validation_split=0.2, batch_size=128, verbose=2)"
   ]
  },
  {
   "cell_type": "code",
   "execution_count": 96,
   "metadata": {},
   "outputs": [
    {
     "name": "stdout",
     "output_type": "stream",
     "text": [
      "Train on 322560 samples, validate on 80640 samples\n",
      "Epoch 1/15\n",
      "322560/322560 - 3s - loss: 1.2420 - accuracy: 0.5050 - val_loss: 0.8720 - val_accuracy: 0.5995\n",
      "Epoch 2/15\n",
      "322560/322560 - 3s - loss: 0.7975 - accuracy: 0.6362 - val_loss: 0.7393 - val_accuracy: 0.6536\n",
      "Epoch 3/15\n",
      "322560/322560 - 3s - loss: 0.7021 - accuracy: 0.6830 - val_loss: 0.6617 - val_accuracy: 0.7052\n",
      "Epoch 4/15\n",
      "322560/322560 - 3s - loss: 0.6412 - accuracy: 0.7148 - val_loss: 0.6181 - val_accuracy: 0.7163\n",
      "Epoch 5/15\n",
      "322560/322560 - 3s - loss: 0.6049 - accuracy: 0.7289 - val_loss: 0.5894 - val_accuracy: 0.7298\n",
      "Epoch 6/15\n",
      "322560/322560 - 3s - loss: 0.5819 - accuracy: 0.7411 - val_loss: 0.5689 - val_accuracy: 0.7748\n",
      "Epoch 7/15\n",
      "322560/322560 - 3s - loss: 0.5661 - accuracy: 0.7614 - val_loss: 0.5562 - val_accuracy: 0.7716\n",
      "Epoch 8/15\n",
      "322560/322560 - 3s - loss: 0.5546 - accuracy: 0.7707 - val_loss: 0.5368 - val_accuracy: 0.7726\n",
      "Epoch 9/15\n",
      "322560/322560 - 3s - loss: 0.5125 - accuracy: 0.7862 - val_loss: 0.4824 - val_accuracy: 0.8147\n",
      "Epoch 10/15\n",
      "322560/322560 - 3s - loss: 0.4583 - accuracy: 0.8235 - val_loss: 0.4306 - val_accuracy: 0.8787\n",
      "Epoch 11/15\n",
      "322560/322560 - 3s - loss: 0.4094 - accuracy: 0.8767 - val_loss: 0.3841 - val_accuracy: 0.8919\n",
      "Epoch 12/15\n",
      "322560/322560 - 3s - loss: 0.3691 - accuracy: 0.9033 - val_loss: 0.3505 - val_accuracy: 0.9109\n",
      "Epoch 13/15\n",
      "322560/322560 - 3s - loss: 0.3373 - accuracy: 0.9141 - val_loss: 0.3217 - val_accuracy: 0.9295\n",
      "Epoch 14/15\n",
      "322560/322560 - 3s - loss: 0.3120 - accuracy: 0.9196 - val_loss: 0.2996 - val_accuracy: 0.9293\n",
      "Epoch 15/15\n",
      "322560/322560 - 3s - loss: 0.2931 - accuracy: 0.9241 - val_loss: 0.2824 - val_accuracy: 0.9281\n"
     ]
    }
   ],
   "source": [
    "model2_2 = build_model2(4,7)\n",
    "history2_2 = model2_2.fit(x_train2, y_train2, epochs=15, validation_split=0.2, batch_size=128, verbose=2)"
   ]
  },
  {
   "cell_type": "markdown",
   "metadata": {},
   "source": [
    "## test"
   ]
  },
  {
   "cell_type": "code",
   "execution_count": 97,
   "metadata": {},
   "outputs": [
    {
     "name": "stdout",
     "output_type": "stream",
     "text": [
      "520000/520000 [==============================] - 14s 27us/sample - loss: 0.4288 - accuracy: 0.7991\n",
      "[0.4288094108260595, 0.7990577]\n",
      "520000/520000 [==============================] - 10s 19us/sample - loss: 0.8684 - accuracy: 0.6545\n",
      "[0.8683844898480635, 0.65446925]\n"
     ]
    }
   ],
   "source": [
    "print(model1.evaluate(x_test1, y_test1))\n",
    "print(model1_2.evaluate(x_test1, y_test1))\n",
    "# [0.09895923781607832, 0.85723215]"
   ]
  },
  {
   "cell_type": "code",
   "execution_count": 98,
   "metadata": {},
   "outputs": [
    {
     "name": "stdout",
     "output_type": "stream",
     "text": [
      "100800/100800 [==============================] - 3s 27us/sample - loss: 0.1182 - accuracy: 0.9635\n",
      "[0.11817697667132412, 0.96347225]\n",
      "100800/100800 [==============================] - 2s 19us/sample - loss: 0.2855 - accuracy: 0.9250\n",
      "[0.28554318231367876, 0.92499006]\n"
     ]
    }
   ],
   "source": [
    "print(model2.evaluate(x_test2, y_test2))\n",
    "print(model2_2.evaluate(x_test2, y_test2))"
   ]
  },
  {
   "cell_type": "code",
   "execution_count": 99,
   "metadata": {},
   "outputs": [
    {
     "name": "stdout",
     "output_type": "stream",
     "text": [
      "model successfully saved | file_location: C:\\Users\\archg\\school\\senoir\\xai-senior-design\\models\\model1.h5\n",
      "model successfully saved | file_location: C:\\Users\\archg\\school\\senoir\\xai-senior-design\\models\\model2.h5\n",
      "model successfully saved | file_location: C:\\Users\\archg\\school\\senoir\\xai-senior-design\\models\\model1_2.h5\n",
      "model successfully saved | file_location: C:\\Users\\archg\\school\\senoir\\xai-senior-design\\models\\model2_2.h5\n"
     ]
    }
   ],
   "source": [
    "#Only save the models if they need to be updated. Be sure to also save the new test-train data\n",
    "\n",
    "save_model(model1, \"model1.h5\")\n",
    "save_model(model2, \"model2.h5\")\n",
    "save_model(model1_2, \"model1_2.h5\")\n",
    "save_model(model2_2, \"model2_2.h5\")"
   ]
  },
  {
   "cell_type": "code",
   "execution_count": 100,
   "metadata": {},
   "outputs": [
    {
     "name": "stdout",
     "output_type": "stream",
     "text": [
      "{'mode': array(['Private Vehicle', 'Taxi/Shuttle/Private Transit',\n",
      "       'bus/amtrak bus/transit bus', 'rail/trolly/pastco', 'school bus',\n",
      "       'subway/train/pastco'], dtype=object)}\n",
      "{'mode': array(['Auto', 'Bus', 'Commuter Rail', 'Ferry', 'Subway', 'Transfer Bus'],\n",
      "      dtype=object)}\n"
     ]
    }
   ],
   "source": [
    "print(cat_feat_names1)\n",
    "print(cat_feat_names2)"
   ]
  },
  {
   "cell_type": "code",
   "execution_count": null,
   "metadata": {},
   "outputs": [],
   "source": []
  }
 ],
 "metadata": {
  "kernelspec": {
   "display_name": "Python 3",
   "language": "python",
   "name": "python3"
  },
  "language_info": {
   "codemirror_mode": {
    "name": "ipython",
    "version": 3
   },
   "file_extension": ".py",
   "mimetype": "text/x-python",
   "name": "python",
   "nbconvert_exporter": "python",
   "pygments_lexer": "ipython3",
   "version": "3.7.1"
  }
 },
 "nbformat": 4,
 "nbformat_minor": 2
}
