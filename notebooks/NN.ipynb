{
 "cells": [
  {
   "cell_type": "markdown",
   "metadata": {},
   "source": [
    "# XAI Neural Net Creation"
   ]
  },
  {
   "cell_type": "markdown",
   "metadata": {},
   "source": [
    "## setup"
   ]
  },
  {
   "cell_type": "code",
   "execution_count": 1,
   "metadata": {},
   "outputs": [],
   "source": [
    "%load_ext autoreload\n",
    "%autoreload 2"
   ]
  },
  {
   "cell_type": "code",
   "execution_count": 2,
   "metadata": {},
   "outputs": [],
   "source": [
    "import os\n",
    "import sys\n",
    "currDir = os.path.dirname(os.path.realpath(\"__file__\"))\n",
    "rootDir = os.path.abspath(os.path.join(currDir, '..'))\n",
    "sys.path.insert(1, rootDir)"
   ]
  },
  {
   "cell_type": "code",
   "execution_count": 3,
   "metadata": {},
   "outputs": [
    {
     "name": "stderr",
     "output_type": "stream",
     "text": [
      "/usr/local/lib/python3.7/site-packages/requests/__init__.py:91: RequestsDependencyWarning: urllib3 (1.23) or chardet (2.0.3) doesn't match a supported version!\n",
      "  RequestsDependencyWarning)\n"
     ]
    }
   ],
   "source": [
    "import pandas as pd\n",
    "import matplotlib.pyplot as plt\n",
    "from sklearn.model_selection import train_test_split\n",
    "from sklearn.preprocessing import StandardScaler, MinMaxScaler\n",
    "from tensorflow.keras.models import Sequential\n",
    "from tensorflow.keras.layers import Dense\n",
    "from tensorflow.keras.optimizers import RMSprop,Adam\n",
    "from tensorflow.keras.utils import to_categorical\n",
    "\n",
    "from src.data.make_dataset import make_dataset_1, make_dataset_2\n",
    "from src.utils.file_utils import save_df, save_model"
   ]
  },
  {
   "cell_type": "markdown",
   "metadata": {},
   "source": [
    "## generate artificial dataset"
   ]
  },
  {
   "cell_type": "code",
   "execution_count": 4,
   "metadata": {},
   "outputs": [
    {
     "name": "stdout",
     "output_type": "stream",
     "text": [
      "successfully generated dataset | num_rows: 2600000\n",
      "successfully generated dataset | num_rows: 504000\n",
      "df successfully saved | filename: dataset1.csv, dir: /Users/test/Documents/GitHub/xai-senior-design/data\n",
      "df successfully saved | filename: dataset2.csv, dir: /Users/test/Documents/GitHub/xai-senior-design/data\n"
     ]
    }
   ],
   "source": [
    "df1 = make_dataset_1()\n",
    "df2 = make_dataset_2()\n",
    "save_df(df1, \"dataset1.csv\")\n",
    "save_df(df2, \"dataset2.csv\")"
   ]
  },
  {
   "cell_type": "code",
   "execution_count": 5,
   "metadata": {
    "scrolled": true
   },
   "outputs": [
    {
     "data": {
      "text/html": [
       "<div>\n",
       "<style scoped>\n",
       "    .dataframe tbody tr th:only-of-type {\n",
       "        vertical-align: middle;\n",
       "    }\n",
       "\n",
       "    .dataframe tbody tr th {\n",
       "        vertical-align: top;\n",
       "    }\n",
       "\n",
       "    .dataframe thead th {\n",
       "        text-align: right;\n",
       "    }\n",
       "</style>\n",
       "<table border=\"1\" class=\"dataframe\">\n",
       "  <thead>\n",
       "    <tr style=\"text-align: right;\">\n",
       "      <th></th>\n",
       "      <th>mode</th>\n",
       "      <th>ei</th>\n",
       "      <th>to</th>\n",
       "      <th>td</th>\n",
       "      <th>tf</th>\n",
       "      <th>vers</th>\n",
       "    </tr>\n",
       "  </thead>\n",
       "  <tbody>\n",
       "    <tr>\n",
       "      <th>count</th>\n",
       "      <td>2.600000e+06</td>\n",
       "      <td>2.600000e+06</td>\n",
       "      <td>2.600000e+06</td>\n",
       "      <td>2.600000e+06</td>\n",
       "      <td>2.600000e+06</td>\n",
       "      <td>2.600000e+06</td>\n",
       "    </tr>\n",
       "    <tr>\n",
       "      <th>mean</th>\n",
       "      <td>1.160000e+01</td>\n",
       "      <td>1.854442e+00</td>\n",
       "      <td>2.677224e+02</td>\n",
       "      <td>7.155500e+01</td>\n",
       "      <td>1.216666e+01</td>\n",
       "      <td>4.500000e+00</td>\n",
       "    </tr>\n",
       "    <tr>\n",
       "      <th>std</th>\n",
       "      <td>8.002501e+00</td>\n",
       "      <td>3.186181e+00</td>\n",
       "      <td>1.555065e+03</td>\n",
       "      <td>4.702838e+01</td>\n",
       "      <td>1.125711e+01</td>\n",
       "      <td>2.872282e+00</td>\n",
       "    </tr>\n",
       "    <tr>\n",
       "      <th>min</th>\n",
       "      <td>5.000000e+00</td>\n",
       "      <td>3.479820e-01</td>\n",
       "      <td>1.000000e+00</td>\n",
       "      <td>1.000000e-01</td>\n",
       "      <td>1.000000e+00</td>\n",
       "      <td>0.000000e+00</td>\n",
       "    </tr>\n",
       "    <tr>\n",
       "      <th>25%</th>\n",
       "      <td>5.000000e+00</td>\n",
       "      <td>9.330000e-01</td>\n",
       "      <td>3.000000e+00</td>\n",
       "      <td>3.430000e+01</td>\n",
       "      <td>3.968246e+00</td>\n",
       "      <td>2.000000e+00</td>\n",
       "    </tr>\n",
       "    <tr>\n",
       "      <th>50%</th>\n",
       "      <td>6.500000e+00</td>\n",
       "      <td>1.354955e+00</td>\n",
       "      <td>5.000000e+00</td>\n",
       "      <td>6.850000e+01</td>\n",
       "      <td>9.000000e+00</td>\n",
       "      <td>4.500000e+00</td>\n",
       "    </tr>\n",
       "    <tr>\n",
       "      <th>75%</th>\n",
       "      <td>2.100000e+01</td>\n",
       "      <td>1.354955e+00</td>\n",
       "      <td>5.500000e+01</td>\n",
       "      <td>1.027000e+02</td>\n",
       "      <td>1.700000e+01</td>\n",
       "      <td>7.000000e+00</td>\n",
       "    </tr>\n",
       "    <tr>\n",
       "      <th>max</th>\n",
       "      <td>2.600000e+01</td>\n",
       "      <td>2.317735e+01</td>\n",
       "      <td>1.440000e+04</td>\n",
       "      <td>2.600000e+02</td>\n",
       "      <td>6.000000e+01</td>\n",
       "      <td>9.000000e+00</td>\n",
       "    </tr>\n",
       "  </tbody>\n",
       "</table>\n",
       "</div>"
      ],
      "text/plain": [
       "               mode            ei            to            td            tf  \\\n",
       "count  2.600000e+06  2.600000e+06  2.600000e+06  2.600000e+06  2.600000e+06   \n",
       "mean   1.160000e+01  1.854442e+00  2.677224e+02  7.155500e+01  1.216666e+01   \n",
       "std    8.002501e+00  3.186181e+00  1.555065e+03  4.702838e+01  1.125711e+01   \n",
       "min    5.000000e+00  3.479820e-01  1.000000e+00  1.000000e-01  1.000000e+00   \n",
       "25%    5.000000e+00  9.330000e-01  3.000000e+00  3.430000e+01  3.968246e+00   \n",
       "50%    6.500000e+00  1.354955e+00  5.000000e+00  6.850000e+01  9.000000e+00   \n",
       "75%    2.100000e+01  1.354955e+00  5.500000e+01  1.027000e+02  1.700000e+01   \n",
       "max    2.600000e+01  2.317735e+01  1.440000e+04  2.600000e+02  6.000000e+01   \n",
       "\n",
       "               vers  \n",
       "count  2.600000e+06  \n",
       "mean   4.500000e+00  \n",
       "std    2.872282e+00  \n",
       "min    0.000000e+00  \n",
       "25%    2.000000e+00  \n",
       "50%    4.500000e+00  \n",
       "75%    7.000000e+00  \n",
       "max    9.000000e+00  "
      ]
     },
     "execution_count": 5,
     "metadata": {},
     "output_type": "execute_result"
    }
   ],
   "source": [
    "df2.describe()\n",
    "df1.describe()"
   ]
  },
  {
   "cell_type": "code",
   "execution_count": 11,
   "metadata": {},
   "outputs": [],
   "source": [
    "from src.utils.file_utils import load_df\n",
    "df1, df2 = load_df(\"dataset1.csv\"), load_df(\"dataset2.csv\")"
   ]
  },
  {
   "cell_type": "markdown",
   "metadata": {},
   "source": [
    "## create neural nets"
   ]
  },
  {
   "cell_type": "code",
   "execution_count": 19,
   "metadata": {},
   "outputs": [],
   "source": [
    "# def build_model():    \n",
    "#     model = Sequential()\n",
    "#     model.add(Dense(6, input_dim=5, activation=\"relu\"))#hidden layer\n",
    "#     model.add(Dense(10, activation=\"relu\"))#hidden layer\n",
    "#     model.add(Dense(1, activation='sigmoid'))#output layer\n",
    "\n",
    "#     optimizer = RMSprop(0.001)\n",
    "#     model.compile(loss='mse', optimizer=optimizer, metrics=['mse', 'mae', 'mape'])\n",
    "#     return model\n",
    "\n",
    "def build_model(num_features, num_classes):\n",
    "    model = Sequential()\n",
    "    model.add(Dense(32, input_shape=(num_features,), activation='relu'))\n",
    "    model.add(Dense(16, activation='relu'))\n",
    "    model.add(Dense(num_classes, activation='softmax'))\n",
    "    model.compile(loss='categorical_crossentropy', # Cross-entropy\n",
    "                optimizer='adam', metrics=['accuracy'])\n",
    "    return model\n",
    "\n",
    "def build_model2(num_features, num_classes):\n",
    "    model = Sequential()\n",
    "    model.add(Dense(5, input_shape=(num_features,), activation='relu'))\n",
    "    model.add(Dense(8, activation='relu'))\n",
    "    model.add(Dense(num_classes, activation='softmax'))\n",
    "    model.compile(loss='categorical_crossentropy', # Cross-entropy\n",
    "                optimizer='adam', metrics=['accuracy'])\n",
    "    return model"
   ]
  },
  {
   "cell_type": "markdown",
   "metadata": {},
   "source": [
    "## train"
   ]
  },
  {
   "cell_type": "code",
   "execution_count": 7,
   "metadata": {},
   "outputs": [
    {
     "name": "stdout",
     "output_type": "stream",
     "text": [
      "df successfully saved | filename: norm_train1.csv, dir: /Users/test/Documents/GitHub/xai-senior-design/data\n",
      "df successfully saved | filename: norm_test1.csv, dir: /Users/test/Documents/GitHub/xai-senior-design/data\n",
      "df successfully saved | filename: norm_train2.csv, dir: /Users/test/Documents/GitHub/xai-senior-design/data\n",
      "df successfully saved | filename: norm_test2.csv, dir: /Users/test/Documents/GitHub/xai-senior-design/data\n"
     ]
    }
   ],
   "source": [
    "def prepare_df(df, y_column):\n",
    "    temp_df = df.copy()\n",
    "    temp_df.sample(frac=1)\n",
    "    \n",
    "    y = to_categorical(\n",
    "        temp_df[y_column].values)\n",
    "    temp_df.drop(y_column, axis=1, inplace=True)\n",
    "    features = list(temp_df.columns)\n",
    "    \n",
    "    x = temp_df.values\n",
    "    scaler = StandardScaler()\n",
    "    scaler.fit(x)\n",
    "    x = scaler.transform(x)\n",
    "    \n",
    "    return x,y,features\n",
    "\n",
    "x1, y1, features1 = prepare_df(df1, \"vers\")\n",
    "x_train1, x_test1, y_train1, y_test1 = train_test_split(x1, y1, test_size=0.20)\n",
    "norm_train1, norm_test1 = pd.DataFrame(x_train1, columns=features1), pd.DataFrame(x_test1, columns=features1)\n",
    "save_df(norm_train1, \"norm_train1.csv\")\n",
    "save_df(norm_train1, \"norm_test1.csv\")\n",
    "\n",
    "x2, y2, features2 = prepare_df(df2, \"vers\")\n",
    "x_train2, x_test2, y_train2, y_test2 = train_test_split(x2, y2, test_size=0.20)\n",
    "norm_train2, norm_test2 = pd.DataFrame(x_train2, columns=features2), pd.DataFrame(x_test2, columns=features2)\n",
    "save_df(norm_train2, \"norm_train2.csv\")\n",
    "save_df(norm_train2, \"norm_test2.csv\")"
   ]
  },
  {
   "cell_type": "code",
   "execution_count": 9,
   "metadata": {
    "scrolled": true
   },
   "outputs": [
    {
     "name": "stdout",
     "output_type": "stream",
     "text": [
      "Train on 1664000 samples, validate on 416000 samples\n",
      "Epoch 1/10\n",
      "1664000/1664000 - 28s - loss: 0.9348 - accuracy: 0.6559 - val_loss: 0.7022 - val_accuracy: 0.7404\n",
      "Epoch 2/10\n",
      "1664000/1664000 - 27s - loss: 0.6329 - accuracy: 0.7692 - val_loss: 0.5996 - val_accuracy: 0.7742\n",
      "Epoch 3/10\n",
      "1664000/1664000 - 22s - loss: 0.5729 - accuracy: 0.7850 - val_loss: 0.5690 - val_accuracy: 0.7804\n",
      "Epoch 4/10\n",
      "1664000/1664000 - 21s - loss: 0.5489 - accuracy: 0.7893 - val_loss: 0.5455 - val_accuracy: 0.7829\n",
      "Epoch 5/10\n",
      "1664000/1664000 - 21s - loss: 0.5363 - accuracy: 0.7907 - val_loss: 0.5334 - val_accuracy: 0.7917\n",
      "Epoch 6/10\n",
      "1664000/1664000 - 21s - loss: 0.5278 - accuracy: 0.7919 - val_loss: 0.5313 - val_accuracy: 0.7908\n",
      "Epoch 7/10\n",
      "1664000/1664000 - 21s - loss: 0.5229 - accuracy: 0.7920 - val_loss: 0.5363 - val_accuracy: 0.7895\n",
      "Epoch 8/10\n",
      "1664000/1664000 - 21s - loss: 0.5177 - accuracy: 0.7927 - val_loss: 0.5096 - val_accuracy: 0.7957\n",
      "Epoch 9/10\n",
      "1664000/1664000 - 22s - loss: 0.5150 - accuracy: 0.7929 - val_loss: 0.5481 - val_accuracy: 0.7794\n",
      "Epoch 10/10\n",
      "1664000/1664000 - 21s - loss: 0.5123 - accuracy: 0.7937 - val_loss: 0.5003 - val_accuracy: 0.7956\n"
     ]
    }
   ],
   "source": [
    "model1 = build_model(5,10)\n",
    "history1 = model1.fit(x_train1, y_train1, epochs=10, validation_split=0.2, batch_size=128, verbose=2)"
   ]
  },
  {
   "cell_type": "code",
   "execution_count": 20,
   "metadata": {
    "scrolled": true
   },
   "outputs": [
    {
     "name": "stdout",
     "output_type": "stream",
     "text": [
      "Train on 1664000 samples, validate on 416000 samples\n",
      "Epoch 1/10\n",
      "1664000/1664000 - 22s - loss: 1.4032 - accuracy: 0.4843 - val_loss: 1.1149 - val_accuracy: 0.6191\n",
      "Epoch 2/10\n",
      "1664000/1664000 - 23s - loss: 1.0531 - accuracy: 0.6301 - val_loss: 1.0188 - val_accuracy: 0.6388\n",
      "Epoch 3/10\n",
      "1664000/1664000 - 22s - loss: 0.9960 - accuracy: 0.6466 - val_loss: 0.9791 - val_accuracy: 0.6665\n",
      "Epoch 4/10\n",
      "1664000/1664000 - 24s - loss: 0.9657 - accuracy: 0.6612 - val_loss: 0.9565 - val_accuracy: 0.6560\n",
      "Epoch 5/10\n",
      "1664000/1664000 - 23s - loss: 0.9470 - accuracy: 0.6649 - val_loss: 0.9427 - val_accuracy: 0.6671\n",
      "Epoch 6/10\n",
      "1664000/1664000 - 21s - loss: 0.9319 - accuracy: 0.6680 - val_loss: 0.9262 - val_accuracy: 0.6682\n",
      "Epoch 7/10\n",
      "1664000/1664000 - 21s - loss: 0.9187 - accuracy: 0.6702 - val_loss: 0.9206 - val_accuracy: 0.6623\n",
      "Epoch 8/10\n",
      "1664000/1664000 - 26s - loss: 0.9093 - accuracy: 0.6707 - val_loss: 0.9207 - val_accuracy: 0.6503\n",
      "Epoch 9/10\n",
      "1664000/1664000 - 26s - loss: 0.9021 - accuracy: 0.6712 - val_loss: 0.8991 - val_accuracy: 0.6755\n",
      "Epoch 10/10\n",
      "1664000/1664000 - 22s - loss: 0.8936 - accuracy: 0.6720 - val_loss: 0.8926 - val_accuracy: 0.6922\n"
     ]
    }
   ],
   "source": [
    "model1_2 = build_model2(5,10)\n",
    "history1_2 = model1_2.fit(x_train1, y_train1, epochs=10, validation_split=0.2, batch_size=128, verbose=2)"
   ]
  },
  {
   "cell_type": "code",
   "execution_count": 10,
   "metadata": {},
   "outputs": [
    {
     "name": "stdout",
     "output_type": "stream",
     "text": [
      "Train on 322560 samples, validate on 80640 samples\n",
      "Epoch 1/15\n",
      "322560/322560 - 6s - loss: 0.6668 - accuracy: 0.7958 - val_loss: 0.2820 - val_accuracy: 0.9435\n",
      "Epoch 2/15\n",
      "322560/322560 - 5s - loss: 0.2228 - accuracy: 0.9446 - val_loss: 0.1930 - val_accuracy: 0.9606\n",
      "Epoch 3/15\n",
      "322560/322560 - 6s - loss: 0.1733 - accuracy: 0.9515 - val_loss: 0.1662 - val_accuracy: 0.9506\n",
      "Epoch 4/15\n",
      "322560/322560 - 4s - loss: 0.1575 - accuracy: 0.9544 - val_loss: 0.1537 - val_accuracy: 0.9590\n",
      "Epoch 5/15\n",
      "322560/322560 - 5s - loss: 0.1497 - accuracy: 0.9569 - val_loss: 0.1468 - val_accuracy: 0.9596\n",
      "Epoch 6/15\n",
      "322560/322560 - 5s - loss: 0.1461 - accuracy: 0.9578 - val_loss: 0.1554 - val_accuracy: 0.9533\n",
      "Epoch 7/15\n",
      "322560/322560 - 6s - loss: 0.1433 - accuracy: 0.9589 - val_loss: 0.1580 - val_accuracy: 0.9399\n",
      "Epoch 8/15\n",
      "322560/322560 - 6s - loss: 0.1409 - accuracy: 0.9599 - val_loss: 0.1489 - val_accuracy: 0.9548\n",
      "Epoch 9/15\n",
      "322560/322560 - 5s - loss: 0.1395 - accuracy: 0.9605 - val_loss: 0.1379 - val_accuracy: 0.9598\n",
      "Epoch 10/15\n",
      "322560/322560 - 4s - loss: 0.1386 - accuracy: 0.9609 - val_loss: 0.1378 - val_accuracy: 0.9594\n",
      "Epoch 11/15\n",
      "322560/322560 - 6s - loss: 0.1374 - accuracy: 0.9615 - val_loss: 0.1368 - val_accuracy: 0.9606\n",
      "Epoch 12/15\n",
      "322560/322560 - 6s - loss: 0.1363 - accuracy: 0.9616 - val_loss: 0.1351 - val_accuracy: 0.9625\n",
      "Epoch 13/15\n",
      "322560/322560 - 6s - loss: 0.1356 - accuracy: 0.9624 - val_loss: 0.1366 - val_accuracy: 0.9662\n",
      "Epoch 14/15\n",
      "322560/322560 - 4s - loss: 0.1348 - accuracy: 0.9624 - val_loss: 0.1342 - val_accuracy: 0.9630\n",
      "Epoch 15/15\n",
      "322560/322560 - 4s - loss: 0.1347 - accuracy: 0.9624 - val_loss: 0.1387 - val_accuracy: 0.9672\n"
     ]
    }
   ],
   "source": [
    "model2 = build_model(4,7)\n",
    "history2 = model2.fit(x_train2, y_train2, epochs=15, validation_split=0.2, batch_size=128, verbose=2)"
   ]
  },
  {
   "cell_type": "code",
   "execution_count": 22,
   "metadata": {},
   "outputs": [
    {
     "name": "stdout",
     "output_type": "stream",
     "text": [
      "Train on 322560 samples, validate on 80640 samples\n",
      "Epoch 1/15\n",
      "322560/322560 - 6s - loss: 1.0903 - accuracy: 0.6064 - val_loss: 0.7503 - val_accuracy: 0.6977\n",
      "Epoch 2/15\n",
      "322560/322560 - 5s - loss: 0.5726 - accuracy: 0.7817 - val_loss: 0.4501 - val_accuracy: 0.8514\n",
      "Epoch 3/15\n",
      "322560/322560 - 5s - loss: 0.3828 - accuracy: 0.8857 - val_loss: 0.3344 - val_accuracy: 0.9168\n",
      "Epoch 4/15\n",
      "322560/322560 - 6s - loss: 0.2958 - accuracy: 0.9191 - val_loss: 0.2660 - val_accuracy: 0.9184\n",
      "Epoch 5/15\n",
      "322560/322560 - 5s - loss: 0.2371 - accuracy: 0.9383 - val_loss: 0.2188 - val_accuracy: 0.9437\n",
      "Epoch 6/15\n",
      "322560/322560 - 7s - loss: 0.2004 - accuracy: 0.9490 - val_loss: 0.1893 - val_accuracy: 0.9528\n",
      "Epoch 7/15\n",
      "322560/322560 - 4s - loss: 0.1775 - accuracy: 0.9530 - val_loss: 0.1709 - val_accuracy: 0.9529\n",
      "Epoch 8/15\n",
      "322560/322560 - 5s - loss: 0.1637 - accuracy: 0.9544 - val_loss: 0.1612 - val_accuracy: 0.9564\n",
      "Epoch 9/15\n",
      "322560/322560 - 4s - loss: 0.1559 - accuracy: 0.9554 - val_loss: 0.1546 - val_accuracy: 0.9556\n",
      "Epoch 10/15\n",
      "322560/322560 - 5s - loss: 0.1512 - accuracy: 0.9566 - val_loss: 0.1530 - val_accuracy: 0.9514\n",
      "Epoch 11/15\n",
      "322560/322560 - 5s - loss: 0.1479 - accuracy: 0.9573 - val_loss: 0.1502 - val_accuracy: 0.9603\n",
      "Epoch 12/15\n",
      "322560/322560 - 5s - loss: 0.1457 - accuracy: 0.9581 - val_loss: 0.1501 - val_accuracy: 0.9527\n",
      "Epoch 13/15\n",
      "322560/322560 - 5s - loss: 0.1442 - accuracy: 0.9586 - val_loss: 0.1459 - val_accuracy: 0.9564\n",
      "Epoch 14/15\n",
      "322560/322560 - 4s - loss: 0.1424 - accuracy: 0.9592 - val_loss: 0.1444 - val_accuracy: 0.9575\n",
      "Epoch 15/15\n",
      "322560/322560 - 5s - loss: 0.1414 - accuracy: 0.9596 - val_loss: 0.1413 - val_accuracy: 0.9601\n"
     ]
    }
   ],
   "source": [
    "model2_2 = build_model2(4,7)\n",
    "history2_2 = model2_2.fit(x_train2, y_train2, epochs=15, validation_split=0.2, batch_size=128, verbose=2)"
   ]
  },
  {
   "cell_type": "markdown",
   "metadata": {},
   "source": [
    "## test"
   ]
  },
  {
   "cell_type": "code",
   "execution_count": 23,
   "metadata": {},
   "outputs": [
    {
     "name": "stdout",
     "output_type": "stream",
     "text": [
      "520000/520000 [==============================] - 16s 30us/sample - loss: 0.5146 - accuracy: 0.7934\n",
      "[0.5146434716848227, 0.7934327]\n",
      "520000/520000 [==============================] - 16s 31us/sample - loss: 0.8897 - accuracy: 0.6935\n",
      "[0.8896572437011279, 0.6934904]\n"
     ]
    }
   ],
   "source": [
    "print(model1.evaluate(x_test1, y_test1))\n",
    "print(model1_2.evaluate(x_test1, y_test1))\n",
    "# [0.09895923781607832, 0.85723215]"
   ]
  },
  {
   "cell_type": "code",
   "execution_count": 24,
   "metadata": {},
   "outputs": [
    {
     "name": "stdout",
     "output_type": "stream",
     "text": [
      "100800/100800 [==============================] - 3s 29us/sample - loss: 0.1387 - accuracy: 0.9669\n",
      "[0.13872719309100556, 0.966875]\n",
      "100800/100800 [==============================] - 3s 33us/sample - loss: 0.1413 - accuracy: 0.9599s - los - ETA: 0s - loss: 0.1414 - accuracy: 0.95\n",
      "[0.14134339284477015, 0.95987105]\n"
     ]
    }
   ],
   "source": [
    "print(model2.evaluate(x_test2, y_test2))\n",
    "print(model2_2.evaluate(x_test2, y_test2))"
   ]
  },
  {
   "cell_type": "code",
   "execution_count": 25,
   "metadata": {},
   "outputs": [
    {
     "name": "stdout",
     "output_type": "stream",
     "text": [
      "model successfully saved | file_location: /Users/test/Documents/GitHub/xai-senior-design/models/model1.h5\n",
      "model successfully saved | file_location: /Users/test/Documents/GitHub/xai-senior-design/models/model2.h5\n",
      "model successfully saved | file_location: /Users/test/Documents/GitHub/xai-senior-design/models/model1_2.h5\n",
      "model successfully saved | file_location: /Users/test/Documents/GitHub/xai-senior-design/models/model2_@.h5\n"
     ]
    }
   ],
   "source": [
    "save_model(model1, \"model1.h5\")\n",
    "save_model(model2, \"model2.h5\")\n",
    "save_model(model1_2, \"model1_2.h5\")\n",
    "save_model(model2_2, \"model2_@.h5\")"
   ]
  },
  {
   "cell_type": "code",
   "execution_count": null,
   "metadata": {},
   "outputs": [],
   "source": []
  }
 ],
 "metadata": {
  "kernelspec": {
   "display_name": "Python 3",
   "language": "python",
   "name": "python3"
  },
  "language_info": {
   "codemirror_mode": {
    "name": "ipython",
    "version": 3
   },
   "file_extension": ".py",
   "mimetype": "text/x-python",
   "name": "python",
   "nbconvert_exporter": "python",
   "pygments_lexer": "ipython3",
   "version": "3.7.6"
  }
 },
 "nbformat": 4,
 "nbformat_minor": 2
}
